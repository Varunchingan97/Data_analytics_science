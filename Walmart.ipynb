{
 "cells": [
  {
   "cell_type": "markdown",
   "id": "0565e857",
   "metadata": {},
   "source": [
    "# Business case\n",
    "\n"
   ]
  },
  {
   "cell_type": "markdown",
   "id": "6387e6aa",
   "metadata": {},
   "source": [
    "Problem statement:\n",
    "    \n",
    "The data is analysis is to be performed to get the spending nature of various groups like male-female, age groups, marital status etc so that Walmart can make necessary actions to grow the business among various customer groups."
   ]
  },
  {
   "cell_type": "code",
   "execution_count": 1,
   "id": "33eb1180",
   "metadata": {},
   "outputs": [],
   "source": [
    "import numpy as np\n",
    "import pandas as pd\n",
    "import matplotlib.pyplot as plt\n",
    "import seaborn as sns\n",
    "\n",
    "%matplotlib inline\n",
    "\n",
    "from scipy.stats import norm\n",
    "from scipy.stats import ttest_ind"
   ]
  },
  {
   "cell_type": "code",
   "execution_count": 2,
   "id": "58903b3b",
   "metadata": {},
   "outputs": [],
   "source": [
    "df=pd.read_csv('walmart.csv')"
   ]
  },
  {
   "cell_type": "code",
   "execution_count": 3,
   "id": "51717147",
   "metadata": {},
   "outputs": [
    {
     "data": {
      "text/html": [
       "<div>\n",
       "<style scoped>\n",
       "    .dataframe tbody tr th:only-of-type {\n",
       "        vertical-align: middle;\n",
       "    }\n",
       "\n",
       "    .dataframe tbody tr th {\n",
       "        vertical-align: top;\n",
       "    }\n",
       "\n",
       "    .dataframe thead th {\n",
       "        text-align: right;\n",
       "    }\n",
       "</style>\n",
       "<table border=\"1\" class=\"dataframe\">\n",
       "  <thead>\n",
       "    <tr style=\"text-align: right;\">\n",
       "      <th></th>\n",
       "      <th>User_ID</th>\n",
       "      <th>Product_ID</th>\n",
       "      <th>Gender</th>\n",
       "      <th>Age</th>\n",
       "      <th>Occupation</th>\n",
       "      <th>City_Category</th>\n",
       "      <th>Stay_In_Current_City_Years</th>\n",
       "      <th>Marital_Status</th>\n",
       "      <th>Product_Category</th>\n",
       "      <th>Purchase</th>\n",
       "    </tr>\n",
       "  </thead>\n",
       "  <tbody>\n",
       "    <tr>\n",
       "      <th>0</th>\n",
       "      <td>1000001</td>\n",
       "      <td>P00069042</td>\n",
       "      <td>F</td>\n",
       "      <td>0-17</td>\n",
       "      <td>10</td>\n",
       "      <td>A</td>\n",
       "      <td>2</td>\n",
       "      <td>0</td>\n",
       "      <td>3</td>\n",
       "      <td>8370</td>\n",
       "    </tr>\n",
       "    <tr>\n",
       "      <th>1</th>\n",
       "      <td>1000001</td>\n",
       "      <td>P00248942</td>\n",
       "      <td>F</td>\n",
       "      <td>0-17</td>\n",
       "      <td>10</td>\n",
       "      <td>A</td>\n",
       "      <td>2</td>\n",
       "      <td>0</td>\n",
       "      <td>1</td>\n",
       "      <td>15200</td>\n",
       "    </tr>\n",
       "    <tr>\n",
       "      <th>2</th>\n",
       "      <td>1000001</td>\n",
       "      <td>P00087842</td>\n",
       "      <td>F</td>\n",
       "      <td>0-17</td>\n",
       "      <td>10</td>\n",
       "      <td>A</td>\n",
       "      <td>2</td>\n",
       "      <td>0</td>\n",
       "      <td>12</td>\n",
       "      <td>1422</td>\n",
       "    </tr>\n",
       "    <tr>\n",
       "      <th>3</th>\n",
       "      <td>1000001</td>\n",
       "      <td>P00085442</td>\n",
       "      <td>F</td>\n",
       "      <td>0-17</td>\n",
       "      <td>10</td>\n",
       "      <td>A</td>\n",
       "      <td>2</td>\n",
       "      <td>0</td>\n",
       "      <td>12</td>\n",
       "      <td>1057</td>\n",
       "    </tr>\n",
       "    <tr>\n",
       "      <th>4</th>\n",
       "      <td>1000002</td>\n",
       "      <td>P00285442</td>\n",
       "      <td>M</td>\n",
       "      <td>55+</td>\n",
       "      <td>16</td>\n",
       "      <td>C</td>\n",
       "      <td>4+</td>\n",
       "      <td>0</td>\n",
       "      <td>8</td>\n",
       "      <td>7969</td>\n",
       "    </tr>\n",
       "    <tr>\n",
       "      <th>...</th>\n",
       "      <td>...</td>\n",
       "      <td>...</td>\n",
       "      <td>...</td>\n",
       "      <td>...</td>\n",
       "      <td>...</td>\n",
       "      <td>...</td>\n",
       "      <td>...</td>\n",
       "      <td>...</td>\n",
       "      <td>...</td>\n",
       "      <td>...</td>\n",
       "    </tr>\n",
       "    <tr>\n",
       "      <th>550063</th>\n",
       "      <td>1006033</td>\n",
       "      <td>P00372445</td>\n",
       "      <td>M</td>\n",
       "      <td>51-55</td>\n",
       "      <td>13</td>\n",
       "      <td>B</td>\n",
       "      <td>1</td>\n",
       "      <td>1</td>\n",
       "      <td>20</td>\n",
       "      <td>368</td>\n",
       "    </tr>\n",
       "    <tr>\n",
       "      <th>550064</th>\n",
       "      <td>1006035</td>\n",
       "      <td>P00375436</td>\n",
       "      <td>F</td>\n",
       "      <td>26-35</td>\n",
       "      <td>1</td>\n",
       "      <td>C</td>\n",
       "      <td>3</td>\n",
       "      <td>0</td>\n",
       "      <td>20</td>\n",
       "      <td>371</td>\n",
       "    </tr>\n",
       "    <tr>\n",
       "      <th>550065</th>\n",
       "      <td>1006036</td>\n",
       "      <td>P00375436</td>\n",
       "      <td>F</td>\n",
       "      <td>26-35</td>\n",
       "      <td>15</td>\n",
       "      <td>B</td>\n",
       "      <td>4+</td>\n",
       "      <td>1</td>\n",
       "      <td>20</td>\n",
       "      <td>137</td>\n",
       "    </tr>\n",
       "    <tr>\n",
       "      <th>550066</th>\n",
       "      <td>1006038</td>\n",
       "      <td>P00375436</td>\n",
       "      <td>F</td>\n",
       "      <td>55+</td>\n",
       "      <td>1</td>\n",
       "      <td>C</td>\n",
       "      <td>2</td>\n",
       "      <td>0</td>\n",
       "      <td>20</td>\n",
       "      <td>365</td>\n",
       "    </tr>\n",
       "    <tr>\n",
       "      <th>550067</th>\n",
       "      <td>1006039</td>\n",
       "      <td>P00371644</td>\n",
       "      <td>F</td>\n",
       "      <td>46-50</td>\n",
       "      <td>0</td>\n",
       "      <td>B</td>\n",
       "      <td>4+</td>\n",
       "      <td>1</td>\n",
       "      <td>20</td>\n",
       "      <td>490</td>\n",
       "    </tr>\n",
       "  </tbody>\n",
       "</table>\n",
       "<p>550068 rows × 10 columns</p>\n",
       "</div>"
      ],
      "text/plain": [
       "        User_ID Product_ID Gender    Age  Occupation City_Category  \\\n",
       "0       1000001  P00069042      F   0-17          10             A   \n",
       "1       1000001  P00248942      F   0-17          10             A   \n",
       "2       1000001  P00087842      F   0-17          10             A   \n",
       "3       1000001  P00085442      F   0-17          10             A   \n",
       "4       1000002  P00285442      M    55+          16             C   \n",
       "...         ...        ...    ...    ...         ...           ...   \n",
       "550063  1006033  P00372445      M  51-55          13             B   \n",
       "550064  1006035  P00375436      F  26-35           1             C   \n",
       "550065  1006036  P00375436      F  26-35          15             B   \n",
       "550066  1006038  P00375436      F    55+           1             C   \n",
       "550067  1006039  P00371644      F  46-50           0             B   \n",
       "\n",
       "       Stay_In_Current_City_Years  Marital_Status  Product_Category  Purchase  \n",
       "0                               2               0                 3      8370  \n",
       "1                               2               0                 1     15200  \n",
       "2                               2               0                12      1422  \n",
       "3                               2               0                12      1057  \n",
       "4                              4+               0                 8      7969  \n",
       "...                           ...             ...               ...       ...  \n",
       "550063                          1               1                20       368  \n",
       "550064                          3               0                20       371  \n",
       "550065                         4+               1                20       137  \n",
       "550066                          2               0                20       365  \n",
       "550067                         4+               1                20       490  \n",
       "\n",
       "[550068 rows x 10 columns]"
      ]
     },
     "execution_count": 3,
     "metadata": {},
     "output_type": "execute_result"
    }
   ],
   "source": [
    "df"
   ]
  },
  {
   "cell_type": "code",
   "execution_count": 4,
   "id": "3c34b8d0",
   "metadata": {},
   "outputs": [
    {
     "name": "stdout",
     "output_type": "stream",
     "text": [
      "<class 'pandas.core.frame.DataFrame'>\n",
      "RangeIndex: 550068 entries, 0 to 550067\n",
      "Data columns (total 10 columns):\n",
      " #   Column                      Non-Null Count   Dtype \n",
      "---  ------                      --------------   ----- \n",
      " 0   User_ID                     550068 non-null  int64 \n",
      " 1   Product_ID                  550068 non-null  object\n",
      " 2   Gender                      550068 non-null  object\n",
      " 3   Age                         550068 non-null  object\n",
      " 4   Occupation                  550068 non-null  int64 \n",
      " 5   City_Category               550068 non-null  object\n",
      " 6   Stay_In_Current_City_Years  550068 non-null  object\n",
      " 7   Marital_Status              550068 non-null  int64 \n",
      " 8   Product_Category            550068 non-null  int64 \n",
      " 9   Purchase                    550068 non-null  int64 \n",
      "dtypes: int64(5), object(5)\n",
      "memory usage: 42.0+ MB\n"
     ]
    }
   ],
   "source": [
    "df.info()"
   ]
  },
  {
   "cell_type": "code",
   "execution_count": 5,
   "id": "f96f7656",
   "metadata": {},
   "outputs": [
    {
     "data": {
      "text/html": [
       "<div>\n",
       "<style scoped>\n",
       "    .dataframe tbody tr th:only-of-type {\n",
       "        vertical-align: middle;\n",
       "    }\n",
       "\n",
       "    .dataframe tbody tr th {\n",
       "        vertical-align: top;\n",
       "    }\n",
       "\n",
       "    .dataframe thead th {\n",
       "        text-align: right;\n",
       "    }\n",
       "</style>\n",
       "<table border=\"1\" class=\"dataframe\">\n",
       "  <thead>\n",
       "    <tr style=\"text-align: right;\">\n",
       "      <th></th>\n",
       "      <th>User_ID</th>\n",
       "      <th>Occupation</th>\n",
       "      <th>Marital_Status</th>\n",
       "      <th>Product_Category</th>\n",
       "      <th>Purchase</th>\n",
       "    </tr>\n",
       "  </thead>\n",
       "  <tbody>\n",
       "    <tr>\n",
       "      <th>count</th>\n",
       "      <td>5.500680e+05</td>\n",
       "      <td>550068.000000</td>\n",
       "      <td>550068.000000</td>\n",
       "      <td>550068.000000</td>\n",
       "      <td>550068.000000</td>\n",
       "    </tr>\n",
       "    <tr>\n",
       "      <th>mean</th>\n",
       "      <td>1.003029e+06</td>\n",
       "      <td>8.076707</td>\n",
       "      <td>0.409653</td>\n",
       "      <td>5.404270</td>\n",
       "      <td>9263.968713</td>\n",
       "    </tr>\n",
       "    <tr>\n",
       "      <th>std</th>\n",
       "      <td>1.727592e+03</td>\n",
       "      <td>6.522660</td>\n",
       "      <td>0.491770</td>\n",
       "      <td>3.936211</td>\n",
       "      <td>5023.065394</td>\n",
       "    </tr>\n",
       "    <tr>\n",
       "      <th>min</th>\n",
       "      <td>1.000001e+06</td>\n",
       "      <td>0.000000</td>\n",
       "      <td>0.000000</td>\n",
       "      <td>1.000000</td>\n",
       "      <td>12.000000</td>\n",
       "    </tr>\n",
       "    <tr>\n",
       "      <th>25%</th>\n",
       "      <td>1.001516e+06</td>\n",
       "      <td>2.000000</td>\n",
       "      <td>0.000000</td>\n",
       "      <td>1.000000</td>\n",
       "      <td>5823.000000</td>\n",
       "    </tr>\n",
       "    <tr>\n",
       "      <th>50%</th>\n",
       "      <td>1.003077e+06</td>\n",
       "      <td>7.000000</td>\n",
       "      <td>0.000000</td>\n",
       "      <td>5.000000</td>\n",
       "      <td>8047.000000</td>\n",
       "    </tr>\n",
       "    <tr>\n",
       "      <th>75%</th>\n",
       "      <td>1.004478e+06</td>\n",
       "      <td>14.000000</td>\n",
       "      <td>1.000000</td>\n",
       "      <td>8.000000</td>\n",
       "      <td>12054.000000</td>\n",
       "    </tr>\n",
       "    <tr>\n",
       "      <th>max</th>\n",
       "      <td>1.006040e+06</td>\n",
       "      <td>20.000000</td>\n",
       "      <td>1.000000</td>\n",
       "      <td>20.000000</td>\n",
       "      <td>23961.000000</td>\n",
       "    </tr>\n",
       "  </tbody>\n",
       "</table>\n",
       "</div>"
      ],
      "text/plain": [
       "            User_ID     Occupation  Marital_Status  Product_Category  \\\n",
       "count  5.500680e+05  550068.000000   550068.000000     550068.000000   \n",
       "mean   1.003029e+06       8.076707        0.409653          5.404270   \n",
       "std    1.727592e+03       6.522660        0.491770          3.936211   \n",
       "min    1.000001e+06       0.000000        0.000000          1.000000   \n",
       "25%    1.001516e+06       2.000000        0.000000          1.000000   \n",
       "50%    1.003077e+06       7.000000        0.000000          5.000000   \n",
       "75%    1.004478e+06      14.000000        1.000000          8.000000   \n",
       "max    1.006040e+06      20.000000        1.000000         20.000000   \n",
       "\n",
       "            Purchase  \n",
       "count  550068.000000  \n",
       "mean     9263.968713  \n",
       "std      5023.065394  \n",
       "min        12.000000  \n",
       "25%      5823.000000  \n",
       "50%      8047.000000  \n",
       "75%     12054.000000  \n",
       "max     23961.000000  "
      ]
     },
     "execution_count": 5,
     "metadata": {},
     "output_type": "execute_result"
    }
   ],
   "source": [
    "df.describe()"
   ]
  },
  {
   "cell_type": "code",
   "execution_count": 6,
   "id": "b4c1d6f4",
   "metadata": {},
   "outputs": [
    {
     "data": {
      "text/html": [
       "<div>\n",
       "<style scoped>\n",
       "    .dataframe tbody tr th:only-of-type {\n",
       "        vertical-align: middle;\n",
       "    }\n",
       "\n",
       "    .dataframe tbody tr th {\n",
       "        vertical-align: top;\n",
       "    }\n",
       "\n",
       "    .dataframe thead th {\n",
       "        text-align: right;\n",
       "    }\n",
       "</style>\n",
       "<table border=\"1\" class=\"dataframe\">\n",
       "  <thead>\n",
       "    <tr style=\"text-align: right;\">\n",
       "      <th></th>\n",
       "      <th>Product_ID</th>\n",
       "      <th>Gender</th>\n",
       "      <th>Age</th>\n",
       "      <th>City_Category</th>\n",
       "      <th>Stay_In_Current_City_Years</th>\n",
       "    </tr>\n",
       "  </thead>\n",
       "  <tbody>\n",
       "    <tr>\n",
       "      <th>count</th>\n",
       "      <td>550068</td>\n",
       "      <td>550068</td>\n",
       "      <td>550068</td>\n",
       "      <td>550068</td>\n",
       "      <td>550068</td>\n",
       "    </tr>\n",
       "    <tr>\n",
       "      <th>unique</th>\n",
       "      <td>3631</td>\n",
       "      <td>2</td>\n",
       "      <td>7</td>\n",
       "      <td>3</td>\n",
       "      <td>5</td>\n",
       "    </tr>\n",
       "    <tr>\n",
       "      <th>top</th>\n",
       "      <td>P00265242</td>\n",
       "      <td>M</td>\n",
       "      <td>26-35</td>\n",
       "      <td>B</td>\n",
       "      <td>1</td>\n",
       "    </tr>\n",
       "    <tr>\n",
       "      <th>freq</th>\n",
       "      <td>1880</td>\n",
       "      <td>414259</td>\n",
       "      <td>219587</td>\n",
       "      <td>231173</td>\n",
       "      <td>193821</td>\n",
       "    </tr>\n",
       "  </tbody>\n",
       "</table>\n",
       "</div>"
      ],
      "text/plain": [
       "       Product_ID  Gender     Age City_Category Stay_In_Current_City_Years\n",
       "count      550068  550068  550068        550068                     550068\n",
       "unique       3631       2       7             3                          5\n",
       "top     P00265242       M   26-35             B                          1\n",
       "freq         1880  414259  219587        231173                     193821"
      ]
     },
     "execution_count": 6,
     "metadata": {},
     "output_type": "execute_result"
    }
   ],
   "source": [
    "df.describe(include='object')"
   ]
  },
  {
   "cell_type": "code",
   "execution_count": 7,
   "id": "30d8d116",
   "metadata": {},
   "outputs": [
    {
     "data": {
      "text/plain": [
       "5891"
      ]
     },
     "execution_count": 7,
     "metadata": {},
     "output_type": "execute_result"
    }
   ],
   "source": [
    "df['User_ID'].nunique()"
   ]
  },
  {
   "cell_type": "code",
   "execution_count": 8,
   "id": "a22234aa",
   "metadata": {},
   "outputs": [
    {
     "data": {
      "text/plain": [
       "array(['2', '4+', '3', '1', '0'], dtype=object)"
      ]
     },
     "execution_count": 8,
     "metadata": {},
     "output_type": "execute_result"
    }
   ],
   "source": [
    "df['Stay_In_Current_City_Years'].unique()"
   ]
  },
  {
   "cell_type": "code",
   "execution_count": 9,
   "id": "cc2e69a5",
   "metadata": {},
   "outputs": [
    {
     "data": {
      "text/plain": [
       "M    414259\n",
       "F    135809\n",
       "Name: Gender, dtype: int64"
      ]
     },
     "execution_count": 9,
     "metadata": {},
     "output_type": "execute_result"
    }
   ],
   "source": [
    "df['Gender'].value_counts()"
   ]
  },
  {
   "cell_type": "code",
   "execution_count": 10,
   "id": "001e45ed",
   "metadata": {},
   "outputs": [
    {
     "data": {
      "text/plain": [
       "M    4225\n",
       "F    1666\n",
       "Name: Gender, dtype: int64"
      ]
     },
     "execution_count": 10,
     "metadata": {},
     "output_type": "execute_result"
    }
   ],
   "source": [
    "df.drop_duplicates('User_ID', keep='first')['Gender'].value_counts()"
   ]
  },
  {
   "cell_type": "code",
   "execution_count": 11,
   "id": "d8763f10",
   "metadata": {},
   "outputs": [
    {
     "data": {
      "text/plain": [
       "User_ID                       0\n",
       "Product_ID                    0\n",
       "Gender                        0\n",
       "Age                           0\n",
       "Occupation                    0\n",
       "City_Category                 0\n",
       "Stay_In_Current_City_Years    0\n",
       "Marital_Status                0\n",
       "Product_Category              0\n",
       "Purchase                      0\n",
       "dtype: int64"
      ]
     },
     "execution_count": 11,
     "metadata": {},
     "output_type": "execute_result"
    }
   ],
   "source": [
    "df.isna().sum()"
   ]
  },
  {
   "cell_type": "code",
   "execution_count": 12,
   "id": "952f2a42",
   "metadata": {},
   "outputs": [
    {
     "data": {
      "text/plain": [
       "P00265242    1880\n",
       "P00025442    1615\n",
       "P00110742    1612\n",
       "P00112142    1562\n",
       "P00057642    1470\n",
       "             ... \n",
       "P00314842       1\n",
       "P00298842       1\n",
       "P00231642       1\n",
       "P00204442       1\n",
       "P00066342       1\n",
       "Name: Product_ID, Length: 3631, dtype: int64"
      ]
     },
     "execution_count": 12,
     "metadata": {},
     "output_type": "execute_result"
    }
   ],
   "source": [
    "df['Product_ID'].value_counts()"
   ]
  },
  {
   "cell_type": "code",
   "execution_count": 13,
   "id": "435bed89",
   "metadata": {},
   "outputs": [
    {
     "data": {
      "text/html": [
       "<div>\n",
       "<style scoped>\n",
       "    .dataframe tbody tr th:only-of-type {\n",
       "        vertical-align: middle;\n",
       "    }\n",
       "\n",
       "    .dataframe tbody tr th {\n",
       "        vertical-align: top;\n",
       "    }\n",
       "\n",
       "    .dataframe thead th {\n",
       "        text-align: right;\n",
       "    }\n",
       "</style>\n",
       "<table border=\"1\" class=\"dataframe\">\n",
       "  <thead>\n",
       "    <tr style=\"text-align: right;\">\n",
       "      <th></th>\n",
       "      <th>Product_ID</th>\n",
       "      <th>Count</th>\n",
       "    </tr>\n",
       "  </thead>\n",
       "  <tbody>\n",
       "    <tr>\n",
       "      <th>0</th>\n",
       "      <td>P00265242</td>\n",
       "      <td>1880</td>\n",
       "    </tr>\n",
       "    <tr>\n",
       "      <th>1</th>\n",
       "      <td>P00025442</td>\n",
       "      <td>1615</td>\n",
       "    </tr>\n",
       "    <tr>\n",
       "      <th>2</th>\n",
       "      <td>P00110742</td>\n",
       "      <td>1612</td>\n",
       "    </tr>\n",
       "    <tr>\n",
       "      <th>3</th>\n",
       "      <td>P00112142</td>\n",
       "      <td>1562</td>\n",
       "    </tr>\n",
       "    <tr>\n",
       "      <th>4</th>\n",
       "      <td>P00057642</td>\n",
       "      <td>1470</td>\n",
       "    </tr>\n",
       "    <tr>\n",
       "      <th>5</th>\n",
       "      <td>P00184942</td>\n",
       "      <td>1440</td>\n",
       "    </tr>\n",
       "    <tr>\n",
       "      <th>6</th>\n",
       "      <td>P00046742</td>\n",
       "      <td>1438</td>\n",
       "    </tr>\n",
       "    <tr>\n",
       "      <th>7</th>\n",
       "      <td>P00058042</td>\n",
       "      <td>1422</td>\n",
       "    </tr>\n",
       "    <tr>\n",
       "      <th>8</th>\n",
       "      <td>P00059442</td>\n",
       "      <td>1406</td>\n",
       "    </tr>\n",
       "    <tr>\n",
       "      <th>9</th>\n",
       "      <td>P00145042</td>\n",
       "      <td>1406</td>\n",
       "    </tr>\n",
       "  </tbody>\n",
       "</table>\n",
       "</div>"
      ],
      "text/plain": [
       "  Product_ID  Count\n",
       "0  P00265242   1880\n",
       "1  P00025442   1615\n",
       "2  P00110742   1612\n",
       "3  P00112142   1562\n",
       "4  P00057642   1470\n",
       "5  P00184942   1440\n",
       "6  P00046742   1438\n",
       "7  P00058042   1422\n",
       "8  P00059442   1406\n",
       "9  P00145042   1406"
      ]
     },
     "execution_count": 13,
     "metadata": {},
     "output_type": "execute_result"
    }
   ],
   "source": [
    "df['Product_ID'].value_counts().reset_index().rename(columns={'index':'Product_ID','Product_ID':'Count'}).head(10)"
   ]
  },
  {
   "cell_type": "markdown",
   "id": "ed7b6724",
   "metadata": {},
   "source": [
    "Above are the top 10 selling items along with the number of purchases."
   ]
  },
  {
   "cell_type": "code",
   "execution_count": 14,
   "id": "1c7517d4",
   "metadata": {},
   "outputs": [
    {
     "data": {
      "text/html": [
       "<div>\n",
       "<style scoped>\n",
       "    .dataframe tbody tr th:only-of-type {\n",
       "        vertical-align: middle;\n",
       "    }\n",
       "\n",
       "    .dataframe tbody tr th {\n",
       "        vertical-align: top;\n",
       "    }\n",
       "\n",
       "    .dataframe thead th {\n",
       "        text-align: right;\n",
       "    }\n",
       "</style>\n",
       "<table border=\"1\" class=\"dataframe\">\n",
       "  <thead>\n",
       "    <tr style=\"text-align: right;\">\n",
       "      <th></th>\n",
       "      <th>Product_ID</th>\n",
       "      <th>Count</th>\n",
       "    </tr>\n",
       "  </thead>\n",
       "  <tbody>\n",
       "    <tr>\n",
       "      <th>0</th>\n",
       "      <td>P00265242</td>\n",
       "      <td>1372</td>\n",
       "    </tr>\n",
       "    <tr>\n",
       "      <th>1</th>\n",
       "      <td>P00025442</td>\n",
       "      <td>1267</td>\n",
       "    </tr>\n",
       "    <tr>\n",
       "      <th>2</th>\n",
       "      <td>P00110742</td>\n",
       "      <td>1247</td>\n",
       "    </tr>\n",
       "    <tr>\n",
       "      <th>3</th>\n",
       "      <td>P00112142</td>\n",
       "      <td>1223</td>\n",
       "    </tr>\n",
       "    <tr>\n",
       "      <th>4</th>\n",
       "      <td>P00057642</td>\n",
       "      <td>1212</td>\n",
       "    </tr>\n",
       "    <tr>\n",
       "      <th>5</th>\n",
       "      <td>P00184942</td>\n",
       "      <td>1141</td>\n",
       "    </tr>\n",
       "    <tr>\n",
       "      <th>6</th>\n",
       "      <td>P00046742</td>\n",
       "      <td>1129</td>\n",
       "    </tr>\n",
       "    <tr>\n",
       "      <th>7</th>\n",
       "      <td>P00237542</td>\n",
       "      <td>1109</td>\n",
       "    </tr>\n",
       "    <tr>\n",
       "      <th>8</th>\n",
       "      <td>P00145042</td>\n",
       "      <td>1104</td>\n",
       "    </tr>\n",
       "    <tr>\n",
       "      <th>9</th>\n",
       "      <td>P00010742</td>\n",
       "      <td>1069</td>\n",
       "    </tr>\n",
       "  </tbody>\n",
       "</table>\n",
       "</div>"
      ],
      "text/plain": [
       "  Product_ID  Count\n",
       "0  P00265242   1372\n",
       "1  P00025442   1267\n",
       "2  P00110742   1247\n",
       "3  P00112142   1223\n",
       "4  P00057642   1212\n",
       "5  P00184942   1141\n",
       "6  P00046742   1129\n",
       "7  P00237542   1109\n",
       "8  P00145042   1104\n",
       "9  P00010742   1069"
      ]
     },
     "execution_count": 14,
     "metadata": {},
     "output_type": "execute_result"
    }
   ],
   "source": [
    "df[df['Gender']=='M']['Product_ID'].value_counts().reset_index().rename(columns={'index':'Product_ID','Product_ID':'Count'}).head(10)"
   ]
  },
  {
   "cell_type": "markdown",
   "id": "4b748add",
   "metadata": {},
   "source": [
    "Above are top 10 items purchased by men."
   ]
  },
  {
   "cell_type": "code",
   "execution_count": 15,
   "id": "c26bc664",
   "metadata": {},
   "outputs": [
    {
     "data": {
      "text/html": [
       "<div>\n",
       "<style scoped>\n",
       "    .dataframe tbody tr th:only-of-type {\n",
       "        vertical-align: middle;\n",
       "    }\n",
       "\n",
       "    .dataframe tbody tr th {\n",
       "        vertical-align: top;\n",
       "    }\n",
       "\n",
       "    .dataframe thead th {\n",
       "        text-align: right;\n",
       "    }\n",
       "</style>\n",
       "<table border=\"1\" class=\"dataframe\">\n",
       "  <thead>\n",
       "    <tr style=\"text-align: right;\">\n",
       "      <th></th>\n",
       "      <th>Product_ID</th>\n",
       "      <th>Count</th>\n",
       "    </tr>\n",
       "  </thead>\n",
       "  <tbody>\n",
       "    <tr>\n",
       "      <th>0</th>\n",
       "      <td>P00265242</td>\n",
       "      <td>508</td>\n",
       "    </tr>\n",
       "    <tr>\n",
       "      <th>1</th>\n",
       "      <td>P00220442</td>\n",
       "      <td>440</td>\n",
       "    </tr>\n",
       "    <tr>\n",
       "      <th>2</th>\n",
       "      <td>P00058042</td>\n",
       "      <td>387</td>\n",
       "    </tr>\n",
       "    <tr>\n",
       "      <th>3</th>\n",
       "      <td>P00255842</td>\n",
       "      <td>375</td>\n",
       "    </tr>\n",
       "    <tr>\n",
       "      <th>4</th>\n",
       "      <td>P00110742</td>\n",
       "      <td>365</td>\n",
       "    </tr>\n",
       "    <tr>\n",
       "      <th>5</th>\n",
       "      <td>P00034742</td>\n",
       "      <td>364</td>\n",
       "    </tr>\n",
       "    <tr>\n",
       "      <th>6</th>\n",
       "      <td>P00059442</td>\n",
       "      <td>358</td>\n",
       "    </tr>\n",
       "    <tr>\n",
       "      <th>7</th>\n",
       "      <td>P00117442</td>\n",
       "      <td>357</td>\n",
       "    </tr>\n",
       "    <tr>\n",
       "      <th>8</th>\n",
       "      <td>P00110842</td>\n",
       "      <td>357</td>\n",
       "    </tr>\n",
       "    <tr>\n",
       "      <th>9</th>\n",
       "      <td>P00025442</td>\n",
       "      <td>348</td>\n",
       "    </tr>\n",
       "  </tbody>\n",
       "</table>\n",
       "</div>"
      ],
      "text/plain": [
       "  Product_ID  Count\n",
       "0  P00265242    508\n",
       "1  P00220442    440\n",
       "2  P00058042    387\n",
       "3  P00255842    375\n",
       "4  P00110742    365\n",
       "5  P00034742    364\n",
       "6  P00059442    358\n",
       "7  P00117442    357\n",
       "8  P00110842    357\n",
       "9  P00025442    348"
      ]
     },
     "execution_count": 15,
     "metadata": {},
     "output_type": "execute_result"
    }
   ],
   "source": [
    "df[df['Gender']=='F']['Product_ID'].value_counts().reset_index().rename(columns={'index':'Product_ID','Product_ID':'Count'}).head(10)"
   ]
  },
  {
   "cell_type": "markdown",
   "id": "7fe4dc2a",
   "metadata": {},
   "source": [
    "Above are top 10 items purchased by women."
   ]
  },
  {
   "cell_type": "code",
   "execution_count": 16,
   "id": "6579ca18",
   "metadata": {},
   "outputs": [
    {
     "data": {
      "text/plain": [
       "Gender\n",
       "F    8734.565765\n",
       "M    9437.526040\n",
       "Name: Purchase, dtype: float64"
      ]
     },
     "execution_count": 16,
     "metadata": {},
     "output_type": "execute_result"
    }
   ],
   "source": [
    "df.groupby('Gender')['Purchase'].mean()"
   ]
  },
  {
   "cell_type": "markdown",
   "id": "e3c3888f",
   "metadata": {},
   "source": [
    "Average purchase amount of mean are higher than women."
   ]
  },
  {
   "cell_type": "code",
   "execution_count": 17,
   "id": "3ae79c22",
   "metadata": {},
   "outputs": [
    {
     "data": {
      "text/plain": [
       "<AxesSubplot:xlabel='City_Category', ylabel='Purchase'>"
      ]
     },
     "execution_count": 17,
     "metadata": {},
     "output_type": "execute_result"
    },
    {
     "data": {
      "image/png": "[encoded data removed]",
      "text/plain": [
       "<Figure size 640x480 with 1 Axes>"
      ]
     },
     "metadata": {},
     "output_type": "display_data"
    }
   ],
   "source": [
    "sns.barplot(data=df, x='City_Category', y='Purchase', estimator=np.mean)"
   ]
  },
  {
   "cell_type": "markdown",
   "id": "8e4e6f29",
   "metadata": {},
   "source": [
    "Insight: Average purchase amount is higher for city category C, whereas that of A and B are comparable."
   ]
  },
  {
   "cell_type": "code",
   "execution_count": 18,
   "id": "5c2f838b",
   "metadata": {},
   "outputs": [
    {
     "data": {
      "text/plain": [
       "<AxesSubplot:xlabel='City_Category', ylabel='Purchase'>"
      ]
     },
     "execution_count": 18,
     "metadata": {},
     "output_type": "execute_result"
    },
    {
     "data": {
      "image/png": "[encoded data removed]",
      "text/plain": [
       "<Figure size 640x480 with 1 Axes>"
      ]
     },
     "metadata": {},
     "output_type": "display_data"
    }
   ],
   "source": [
    "sns.barplot(data=df, x='City_Category', y='Purchase', estimator=np.sum)"
   ]
  },
  {
   "cell_type": "markdown",
   "id": "62b24d33",
   "metadata": {},
   "source": [
    "Insight: When considering total purchase value, the decreasing order is B,C, and then A.\n",
    "\n",
    "Recommendation: More marketing to be done to increase the revenue from city category A and C."
   ]
  },
  {
   "cell_type": "code",
   "execution_count": 19,
   "id": "f6027927",
   "metadata": {},
   "outputs": [
    {
     "data": {
      "text/plain": [
       "<AxesSubplot:xlabel='Stay_In_Current_City_Years', ylabel='Purchase'>"
      ]
     },
     "execution_count": 19,
     "metadata": {},
     "output_type": "execute_result"
    },
    {
     "data": {
      "image/png": "[encoded data removed]",
      "text/plain": [
       "<Figure size 640x480 with 1 Axes>"
      ]
     },
     "metadata": {},
     "output_type": "display_data"
    }
   ],
   "source": [
    "sns.barplot(data=df, x='Stay_In_Current_City_Years', y='Purchase', estimator=np.sum)"
   ]
  },
  {
   "cell_type": "markdown",
   "id": "0042fbf6",
   "metadata": {},
   "source": [
    "Insight: Walmart is making maximum revenue from people who are in the first year in the city."
   ]
  },
  {
   "cell_type": "code",
   "execution_count": 20,
   "id": "c2c92ecd",
   "metadata": {},
   "outputs": [
    {
     "data": {
      "text/plain": [
       "<AxesSubplot:xlabel='City_Category', ylabel='Purchase'>"
      ]
     },
     "execution_count": 20,
     "metadata": {},
     "output_type": "execute_result"
    },
    {
     "data": {
      "image/png": "[encoded data removed]",
      "text/plain": [
       "<Figure size 640x480 with 1 Axes>"
      ]
     },
     "metadata": {},
     "output_type": "display_data"
    }
   ],
   "source": [
    "sns.boxplot(data=df, x='City_Category', y='Purchase')"
   ]
  },
  {
   "cell_type": "markdown",
   "id": "7d7dd326",
   "metadata": {},
   "source": [
    "Insight: The median value of purchase are higher for city category C. For other two categories median values are comparable. There are outliers observed here."
   ]
  },
  {
   "cell_type": "code",
   "execution_count": 21,
   "id": "61d8dad5",
   "metadata": {},
   "outputs": [
    {
     "data": {
      "text/plain": [
       "<AxesSubplot:xlabel='Marital_Status', ylabel='Purchase'>"
      ]
     },
     "execution_count": 21,
     "metadata": {},
     "output_type": "execute_result"
    },
    {
     "data": {
      "image/png": "[encoded data removed]",
      "text/plain": [
       "<Figure size 640x480 with 1 Axes>"
      ]
     },
     "metadata": {},
     "output_type": "display_data"
    }
   ],
   "source": [
    "sns.boxplot(data=df, x='Marital_Status', y='Purchase')"
   ]
  },
  {
   "cell_type": "markdown",
   "id": "d45f3165",
   "metadata": {},
   "source": [
    "Insight: Distribution are similar when comparing marital status. Median values are comparable and outliers are oberved."
   ]
  },
  {
   "cell_type": "code",
   "execution_count": 22,
   "id": "ef5d0e99",
   "metadata": {},
   "outputs": [
    {
     "data": {
      "image/png": "[encoded data removed]",
      "text/plain": [
       "<Figure size 640x480 with 1 Axes>"
      ]
     },
     "metadata": {},
     "output_type": "display_data"
    }
   ],
   "source": [
    "sns.barplot(data=df, x='Product_Category', y='Purchase',estimator=np.sum)\n",
    "plt.ylabel('Revenue')\n",
    "plt.show()"
   ]
  },
  {
   "cell_type": "markdown",
   "id": "71f5c346",
   "metadata": {},
   "source": [
    "Insight: Above is the plot showing revenue against product category. 1 is the product category making highest revenue followed by 5,8,and 6."
   ]
  },
  {
   "cell_type": "code",
   "execution_count": 23,
   "id": "4a443613",
   "metadata": {},
   "outputs": [
    {
     "data": {
      "text/plain": [
       "<AxesSubplot:xlabel='Purchase', ylabel='Density'>"
      ]
     },
     "execution_count": 23,
     "metadata": {},
     "output_type": "execute_result"
    },
    {
     "data": {
      "image/png": "[encoded data removed]",
      "text/plain": [
       "<Figure size 640x480 with 1 Axes>"
      ]
     },
     "metadata": {},
     "output_type": "display_data"
    }
   ],
   "source": [
    "sns.kdeplot(data=df, x='Purchase')"
   ]
  },
  {
   "cell_type": "markdown",
   "id": "7b038703",
   "metadata": {},
   "source": [
    "The kdeplot of purchase amount shows several peaks."
   ]
  },
  {
   "cell_type": "code",
   "execution_count": 24,
   "id": "9c36330c",
   "metadata": {},
   "outputs": [
    {
     "data": {
      "image/png": "[encoded data removed]",
      "text/plain": [
       "<Figure size 640x480 with 1 Axes>"
      ]
     },
     "metadata": {},
     "output_type": "display_data"
    }
   ],
   "source": [
    "sns.barplot(data=df, x='Age', y='Purchase', estimator=np.sum)\n",
    "plt.ylabel('Revenue')\n",
    "plt.show()"
   ]
  },
  {
   "cell_type": "markdown",
   "id": "291482cf",
   "metadata": {},
   "source": [
    "Insight: The age category 26-35 is the one giving maximum revenue. It is followed by 36-45 and 18-25.\n",
    "\n",
    "Recommendation: Promotion activities are to be done to increase the awareness of Walmart and benefits amont age below 17 and age above 46."
   ]
  },
  {
   "cell_type": "code",
   "execution_count": 25,
   "id": "41a7190b",
   "metadata": {},
   "outputs": [
    {
     "data": {
      "text/html": [
       "<div>\n",
       "<style scoped>\n",
       "    .dataframe tbody tr th:only-of-type {\n",
       "        vertical-align: middle;\n",
       "    }\n",
       "\n",
       "    .dataframe tbody tr th {\n",
       "        vertical-align: top;\n",
       "    }\n",
       "\n",
       "    .dataframe thead th {\n",
       "        text-align: right;\n",
       "    }\n",
       "</style>\n",
       "<table border=\"1\" class=\"dataframe\">\n",
       "  <thead>\n",
       "    <tr style=\"text-align: right;\">\n",
       "      <th></th>\n",
       "      <th>mean</th>\n",
       "      <th>std</th>\n",
       "    </tr>\n",
       "    <tr>\n",
       "      <th>Gender</th>\n",
       "      <th></th>\n",
       "      <th></th>\n",
       "    </tr>\n",
       "  </thead>\n",
       "  <tbody>\n",
       "    <tr>\n",
       "      <th>F</th>\n",
       "      <td>8734.565765</td>\n",
       "      <td>4767.233289</td>\n",
       "    </tr>\n",
       "    <tr>\n",
       "      <th>M</th>\n",
       "      <td>9437.526040</td>\n",
       "      <td>5092.186210</td>\n",
       "    </tr>\n",
       "  </tbody>\n",
       "</table>\n",
       "</div>"
      ],
      "text/plain": [
       "               mean          std\n",
       "Gender                          \n",
       "F       8734.565765  4767.233289\n",
       "M       9437.526040  5092.186210"
      ]
     },
     "execution_count": 25,
     "metadata": {},
     "output_type": "execute_result"
    }
   ],
   "source": [
    "dft=df.groupby('Gender')['Purchase'].aggregate(['mean','std'])\n",
    "dft"
   ]
  },
  {
   "cell_type": "code",
   "execution_count": 26,
   "id": "61dea06a",
   "metadata": {},
   "outputs": [],
   "source": [
    "#Function to find 95 percent CI\n",
    "\n",
    "def fun95(x):\n",
    "    m=x['Purchase'].mean()\n",
    "    s=x['Purchase'].std()\n",
    "    se=s/np.sqrt(x.shape[0])\n",
    "    z=norm.ppf(.5+95/200)\n",
    "    return m-z*se,m+z*se"
   ]
  },
  {
   "cell_type": "code",
   "execution_count": 27,
   "id": "558a3852",
   "metadata": {},
   "outputs": [],
   "source": [
    "#Function to find 99 percent CI\n",
    "\n",
    "def fun99(x):\n",
    "    m=x['Purchase'].mean()\n",
    "    s=x['Purchase'].std()\n",
    "    se=s/np.sqrt(x.shape[0])\n",
    "    z=norm.ppf(.5+99/200)\n",
    "    return m-z*se,m+z*se"
   ]
  },
  {
   "cell_type": "code",
   "execution_count": 28,
   "id": "4c32addd",
   "metadata": {},
   "outputs": [],
   "source": [
    "#Function to find 90 percent CI\n",
    "\n",
    "def fun90(x):\n",
    "    m=x['Purchase'].mean()\n",
    "    s=x['Purchase'].std()\n",
    "    se=s/np.sqrt(x.shape[0])\n",
    "    z=norm.ppf(.5+90/200)\n",
    "    return m-z*se,m+z*se"
   ]
  },
  {
   "cell_type": "markdown",
   "id": "67741931",
   "metadata": {},
   "source": [
    "# Confidence intervals based on gender groups"
   ]
  },
  {
   "cell_type": "markdown",
   "id": "3a946584",
   "metadata": {},
   "source": [
    "95% confidence interval for purchase amount per transaction is obtained as given below"
   ]
  },
  {
   "cell_type": "code",
   "execution_count": 29,
   "id": "075cead9",
   "metadata": {},
   "outputs": [
    {
     "data": {
      "text/plain": [
       "Gender\n",
       "F    (8709.21154714068, 8759.919983170272)\n",
       "M    (9422.01944736257, 9453.032633581959)\n",
       "dtype: object"
      ]
     },
     "execution_count": 29,
     "metadata": {},
     "output_type": "execute_result"
    }
   ],
   "source": [
    "df.groupby('Gender').apply(fun95)"
   ]
  },
  {
   "cell_type": "markdown",
   "id": "48111709",
   "metadata": {},
   "source": [
    "99% confidence interval for purchase amount per transaction is obtained as given below"
   ]
  },
  {
   "cell_type": "code",
   "execution_count": 30,
   "id": "18357afb",
   "metadata": {},
   "outputs": [
    {
     "data": {
      "text/plain": [
       "Gender\n",
       "F     (8701.24467443839, 8767.88685587256)\n",
       "M    (9417.146922669479, 9457.90515827505)\n",
       "dtype: object"
      ]
     },
     "execution_count": 30,
     "metadata": {},
     "output_type": "execute_result"
    }
   ],
   "source": [
    "df.groupby('Gender').apply(fun99)"
   ]
  },
  {
   "cell_type": "markdown",
   "id": "f8e0f0cd",
   "metadata": {},
   "source": [
    "90% confidence interval for purchase amount per transaction is obtained as given below"
   ]
  },
  {
   "cell_type": "code",
   "execution_count": 31,
   "id": "29f5e1ec",
   "metadata": {},
   "outputs": [
    {
     "data": {
      "text/plain": [
       "Gender\n",
       "F     (8713.287834648021, 8755.84369566293)\n",
       "M    (9424.512497305488, 9450.539583639042)\n",
       "dtype: object"
      ]
     },
     "execution_count": 31,
     "metadata": {},
     "output_type": "execute_result"
    }
   ],
   "source": [
    "df.groupby('Gender').apply(fun90)"
   ]
  },
  {
   "cell_type": "markdown",
   "id": "f74f8285",
   "metadata": {},
   "source": [
    "Insight: We can see that confidence intervals for average spending of male and female are not overlapping for 90,95, and 99 percent confidence intervals. So its evident that male are spending more per purchase.\n",
    "\n",
    "Recommendation: Since are spending more per purchase and we know the top products that are bought by male, we can keep more inventory of these items. And in case of female customers since the avg spending is less compared to male we can do more marketing for the top products bought by female customers to increase the popularity among female customers."
   ]
  },
  {
   "cell_type": "code",
   "execution_count": 32,
   "id": "f42c4335",
   "metadata": {},
   "outputs": [
    {
     "name": "stdout",
     "output_type": "stream",
     "text": [
      "p value=  0.0\n",
      "Reject Ho\n",
      "Avg spending are not equal\n"
     ]
    }
   ],
   "source": [
    "dfm=df[df['Gender']==\"M\"]['Purchase']\n",
    "dff=df[df['Gender']=='F']['Purchase']\n",
    "\n",
    "#Ho: mu1=mu2\n",
    "#Ha: mu1!=mu2\n",
    "\n",
    "alpha=0.05\n",
    "\n",
    "tstat, p_value=ttest_ind(dfm,dff)\n",
    "print('p value= ', p_value)\n",
    "\n",
    "if p_value<alpha:\n",
    "    print('Reject Ho')\n",
    "    print('Avg spending are not equal')\n",
    "else:\n",
    "    print('Fail to reject Ho')\n",
    "    print('Avg spending are equal')"
   ]
  },
  {
   "cell_type": "code",
   "execution_count": 33,
   "id": "822319a4",
   "metadata": {},
   "outputs": [
    {
     "name": "stdout",
     "output_type": "stream",
     "text": [
      "p value=  0.0\n",
      "Reject Ho\n",
      "Male spend more than female\n"
     ]
    }
   ],
   "source": [
    "#Ho: mu1=mu2\n",
    "#Ha: mu1>mu2\n",
    "\n",
    "alpha=0.05\n",
    "\n",
    "tstat, p_value=ttest_ind(dfm,dff)\n",
    "print('p value= ', p_value)\n",
    "\n",
    "if p_value<alpha:\n",
    "    print('Reject Ho')\n",
    "    print('Male spend more than female')\n",
    "else:\n",
    "    print('Fail to reject Ho')\n",
    "    print('Avg spending are equal')"
   ]
  },
  {
   "cell_type": "markdown",
   "id": "ba031d19",
   "metadata": {},
   "source": [
    "-------------------------Confidence interval after varying sample size----------------------------------"
   ]
  },
  {
   "cell_type": "code",
   "execution_count": 65,
   "id": "6fc30000",
   "metadata": {},
   "outputs": [
    {
     "data": {
      "text/html": [
       "<div>\n",
       "<style scoped>\n",
       "    .dataframe tbody tr th:only-of-type {\n",
       "        vertical-align: middle;\n",
       "    }\n",
       "\n",
       "    .dataframe tbody tr th {\n",
       "        vertical-align: top;\n",
       "    }\n",
       "\n",
       "    .dataframe thead th {\n",
       "        text-align: right;\n",
       "    }\n",
       "</style>\n",
       "<table border=\"1\" class=\"dataframe\">\n",
       "  <thead>\n",
       "    <tr style=\"text-align: right;\">\n",
       "      <th></th>\n",
       "      <th>User_ID</th>\n",
       "      <th>Product_ID</th>\n",
       "      <th>Gender</th>\n",
       "      <th>Age</th>\n",
       "      <th>Occupation</th>\n",
       "      <th>City_Category</th>\n",
       "      <th>Stay_In_Current_City_Years</th>\n",
       "      <th>Marital_Status</th>\n",
       "      <th>Product_Category</th>\n",
       "      <th>Purchase</th>\n",
       "    </tr>\n",
       "  </thead>\n",
       "  <tbody>\n",
       "    <tr>\n",
       "      <th>351705</th>\n",
       "      <td>1000163</td>\n",
       "      <td>P00006342</td>\n",
       "      <td>M</td>\n",
       "      <td>18-25</td>\n",
       "      <td>4</td>\n",
       "      <td>A</td>\n",
       "      <td>1</td>\n",
       "      <td>0</td>\n",
       "      <td>5</td>\n",
       "      <td>1926</td>\n",
       "    </tr>\n",
       "    <tr>\n",
       "      <th>33522</th>\n",
       "      <td>1005140</td>\n",
       "      <td>P00048742</td>\n",
       "      <td>M</td>\n",
       "      <td>26-35</td>\n",
       "      <td>6</td>\n",
       "      <td>B</td>\n",
       "      <td>2</td>\n",
       "      <td>0</td>\n",
       "      <td>5</td>\n",
       "      <td>5249</td>\n",
       "    </tr>\n",
       "    <tr>\n",
       "      <th>375232</th>\n",
       "      <td>1003763</td>\n",
       "      <td>P00021342</td>\n",
       "      <td>M</td>\n",
       "      <td>26-35</td>\n",
       "      <td>2</td>\n",
       "      <td>A</td>\n",
       "      <td>1</td>\n",
       "      <td>0</td>\n",
       "      <td>5</td>\n",
       "      <td>5480</td>\n",
       "    </tr>\n",
       "    <tr>\n",
       "      <th>445834</th>\n",
       "      <td>1002665</td>\n",
       "      <td>P00015542</td>\n",
       "      <td>M</td>\n",
       "      <td>36-45</td>\n",
       "      <td>11</td>\n",
       "      <td>B</td>\n",
       "      <td>1</td>\n",
       "      <td>0</td>\n",
       "      <td>1</td>\n",
       "      <td>7601</td>\n",
       "    </tr>\n",
       "    <tr>\n",
       "      <th>212458</th>\n",
       "      <td>1002826</td>\n",
       "      <td>P00117142</td>\n",
       "      <td>M</td>\n",
       "      <td>36-45</td>\n",
       "      <td>12</td>\n",
       "      <td>A</td>\n",
       "      <td>4+</td>\n",
       "      <td>1</td>\n",
       "      <td>2</td>\n",
       "      <td>9792</td>\n",
       "    </tr>\n",
       "    <tr>\n",
       "      <th>...</th>\n",
       "      <td>...</td>\n",
       "      <td>...</td>\n",
       "      <td>...</td>\n",
       "      <td>...</td>\n",
       "      <td>...</td>\n",
       "      <td>...</td>\n",
       "      <td>...</td>\n",
       "      <td>...</td>\n",
       "      <td>...</td>\n",
       "      <td>...</td>\n",
       "    </tr>\n",
       "    <tr>\n",
       "      <th>80233</th>\n",
       "      <td>1000348</td>\n",
       "      <td>P00284842</td>\n",
       "      <td>M</td>\n",
       "      <td>51-55</td>\n",
       "      <td>7</td>\n",
       "      <td>B</td>\n",
       "      <td>2</td>\n",
       "      <td>1</td>\n",
       "      <td>1</td>\n",
       "      <td>19184</td>\n",
       "    </tr>\n",
       "    <tr>\n",
       "      <th>467102</th>\n",
       "      <td>1005954</td>\n",
       "      <td>P00114542</td>\n",
       "      <td>M</td>\n",
       "      <td>46-50</td>\n",
       "      <td>11</td>\n",
       "      <td>A</td>\n",
       "      <td>2</td>\n",
       "      <td>1</td>\n",
       "      <td>5</td>\n",
       "      <td>8730</td>\n",
       "    </tr>\n",
       "    <tr>\n",
       "      <th>534041</th>\n",
       "      <td>1004227</td>\n",
       "      <td>P00247642</td>\n",
       "      <td>M</td>\n",
       "      <td>26-35</td>\n",
       "      <td>19</td>\n",
       "      <td>A</td>\n",
       "      <td>0</td>\n",
       "      <td>0</td>\n",
       "      <td>7</td>\n",
       "      <td>16718</td>\n",
       "    </tr>\n",
       "    <tr>\n",
       "      <th>158749</th>\n",
       "      <td>1000543</td>\n",
       "      <td>P0096942</td>\n",
       "      <td>M</td>\n",
       "      <td>26-35</td>\n",
       "      <td>5</td>\n",
       "      <td>B</td>\n",
       "      <td>4+</td>\n",
       "      <td>1</td>\n",
       "      <td>3</td>\n",
       "      <td>10967</td>\n",
       "    </tr>\n",
       "    <tr>\n",
       "      <th>239466</th>\n",
       "      <td>1000970</td>\n",
       "      <td>P00224142</td>\n",
       "      <td>M</td>\n",
       "      <td>26-35</td>\n",
       "      <td>0</td>\n",
       "      <td>B</td>\n",
       "      <td>4+</td>\n",
       "      <td>1</td>\n",
       "      <td>8</td>\n",
       "      <td>5900</td>\n",
       "    </tr>\n",
       "  </tbody>\n",
       "</table>\n",
       "<p>100000 rows × 10 columns</p>\n",
       "</div>"
      ],
      "text/plain": [
       "        User_ID Product_ID Gender    Age  Occupation City_Category  \\\n",
       "351705  1000163  P00006342      M  18-25           4             A   \n",
       "33522   1005140  P00048742      M  26-35           6             B   \n",
       "375232  1003763  P00021342      M  26-35           2             A   \n",
       "445834  1002665  P00015542      M  36-45          11             B   \n",
       "212458  1002826  P00117142      M  36-45          12             A   \n",
       "...         ...        ...    ...    ...         ...           ...   \n",
       "80233   1000348  P00284842      M  51-55           7             B   \n",
       "467102  1005954  P00114542      M  46-50          11             A   \n",
       "534041  1004227  P00247642      M  26-35          19             A   \n",
       "158749  1000543   P0096942      M  26-35           5             B   \n",
       "239466  1000970  P00224142      M  26-35           0             B   \n",
       "\n",
       "       Stay_In_Current_City_Years  Marital_Status  Product_Category  Purchase  \n",
       "351705                          1               0                 5      1926  \n",
       "33522                           2               0                 5      5249  \n",
       "375232                          1               0                 5      5480  \n",
       "445834                          1               0                 1      7601  \n",
       "212458                         4+               1                 2      9792  \n",
       "...                           ...             ...               ...       ...  \n",
       "80233                           2               1                 1     19184  \n",
       "467102                          2               1                 5      8730  \n",
       "534041                          0               0                 7     16718  \n",
       "158749                         4+               1                 3     10967  \n",
       "239466                         4+               1                 8      5900  \n",
       "\n",
       "[100000 rows x 10 columns]"
      ]
     },
     "execution_count": 65,
     "metadata": {},
     "output_type": "execute_result"
    }
   ],
   "source": [
    "dfsm=df[df['Gender']=='M'].sample(100000)\n",
    "dfsm"
   ]
  },
  {
   "cell_type": "code",
   "execution_count": 66,
   "id": "d9efbfb4",
   "metadata": {},
   "outputs": [
    {
     "data": {
      "text/html": [
       "<div>\n",
       "<style scoped>\n",
       "    .dataframe tbody tr th:only-of-type {\n",
       "        vertical-align: middle;\n",
       "    }\n",
       "\n",
       "    .dataframe tbody tr th {\n",
       "        vertical-align: top;\n",
       "    }\n",
       "\n",
       "    .dataframe thead th {\n",
       "        text-align: right;\n",
       "    }\n",
       "</style>\n",
       "<table border=\"1\" class=\"dataframe\">\n",
       "  <thead>\n",
       "    <tr style=\"text-align: right;\">\n",
       "      <th></th>\n",
       "      <th>User_ID</th>\n",
       "      <th>Product_ID</th>\n",
       "      <th>Gender</th>\n",
       "      <th>Age</th>\n",
       "      <th>Occupation</th>\n",
       "      <th>City_Category</th>\n",
       "      <th>Stay_In_Current_City_Years</th>\n",
       "      <th>Marital_Status</th>\n",
       "      <th>Product_Category</th>\n",
       "      <th>Purchase</th>\n",
       "    </tr>\n",
       "  </thead>\n",
       "  <tbody>\n",
       "    <tr>\n",
       "      <th>385439</th>\n",
       "      <td>1005329</td>\n",
       "      <td>P00225042</td>\n",
       "      <td>F</td>\n",
       "      <td>26-35</td>\n",
       "      <td>5</td>\n",
       "      <td>B</td>\n",
       "      <td>1</td>\n",
       "      <td>0</td>\n",
       "      <td>8</td>\n",
       "      <td>10004</td>\n",
       "    </tr>\n",
       "    <tr>\n",
       "      <th>454404</th>\n",
       "      <td>1003945</td>\n",
       "      <td>P00193342</td>\n",
       "      <td>F</td>\n",
       "      <td>46-50</td>\n",
       "      <td>1</td>\n",
       "      <td>B</td>\n",
       "      <td>2</td>\n",
       "      <td>0</td>\n",
       "      <td>11</td>\n",
       "      <td>5917</td>\n",
       "    </tr>\n",
       "    <tr>\n",
       "      <th>363804</th>\n",
       "      <td>1001962</td>\n",
       "      <td>P00302442</td>\n",
       "      <td>F</td>\n",
       "      <td>18-25</td>\n",
       "      <td>1</td>\n",
       "      <td>B</td>\n",
       "      <td>0</td>\n",
       "      <td>1</td>\n",
       "      <td>5</td>\n",
       "      <td>5393</td>\n",
       "    </tr>\n",
       "    <tr>\n",
       "      <th>518033</th>\n",
       "      <td>1001755</td>\n",
       "      <td>P00058142</td>\n",
       "      <td>F</td>\n",
       "      <td>18-25</td>\n",
       "      <td>4</td>\n",
       "      <td>B</td>\n",
       "      <td>4+</td>\n",
       "      <td>0</td>\n",
       "      <td>3</td>\n",
       "      <td>5662</td>\n",
       "    </tr>\n",
       "    <tr>\n",
       "      <th>458148</th>\n",
       "      <td>1004482</td>\n",
       "      <td>P00296042</td>\n",
       "      <td>F</td>\n",
       "      <td>36-45</td>\n",
       "      <td>1</td>\n",
       "      <td>A</td>\n",
       "      <td>1</td>\n",
       "      <td>0</td>\n",
       "      <td>8</td>\n",
       "      <td>6160</td>\n",
       "    </tr>\n",
       "    <tr>\n",
       "      <th>...</th>\n",
       "      <td>...</td>\n",
       "      <td>...</td>\n",
       "      <td>...</td>\n",
       "      <td>...</td>\n",
       "      <td>...</td>\n",
       "      <td>...</td>\n",
       "      <td>...</td>\n",
       "      <td>...</td>\n",
       "      <td>...</td>\n",
       "      <td>...</td>\n",
       "    </tr>\n",
       "    <tr>\n",
       "      <th>4603</th>\n",
       "      <td>1000752</td>\n",
       "      <td>P00035042</td>\n",
       "      <td>F</td>\n",
       "      <td>26-35</td>\n",
       "      <td>3</td>\n",
       "      <td>A</td>\n",
       "      <td>3</td>\n",
       "      <td>0</td>\n",
       "      <td>5</td>\n",
       "      <td>6870</td>\n",
       "    </tr>\n",
       "    <tr>\n",
       "      <th>84632</th>\n",
       "      <td>1001088</td>\n",
       "      <td>P00303442</td>\n",
       "      <td>F</td>\n",
       "      <td>0-17</td>\n",
       "      <td>10</td>\n",
       "      <td>A</td>\n",
       "      <td>3</td>\n",
       "      <td>0</td>\n",
       "      <td>1</td>\n",
       "      <td>11975</td>\n",
       "    </tr>\n",
       "    <tr>\n",
       "      <th>412538</th>\n",
       "      <td>1003518</td>\n",
       "      <td>P00041942</td>\n",
       "      <td>F</td>\n",
       "      <td>18-25</td>\n",
       "      <td>7</td>\n",
       "      <td>A</td>\n",
       "      <td>2</td>\n",
       "      <td>0</td>\n",
       "      <td>5</td>\n",
       "      <td>5229</td>\n",
       "    </tr>\n",
       "    <tr>\n",
       "      <th>513095</th>\n",
       "      <td>1001088</td>\n",
       "      <td>P00297442</td>\n",
       "      <td>F</td>\n",
       "      <td>0-17</td>\n",
       "      <td>10</td>\n",
       "      <td>A</td>\n",
       "      <td>3</td>\n",
       "      <td>0</td>\n",
       "      <td>2</td>\n",
       "      <td>3259</td>\n",
       "    </tr>\n",
       "    <tr>\n",
       "      <th>346940</th>\n",
       "      <td>1005433</td>\n",
       "      <td>P00052242</td>\n",
       "      <td>F</td>\n",
       "      <td>36-45</td>\n",
       "      <td>17</td>\n",
       "      <td>B</td>\n",
       "      <td>3</td>\n",
       "      <td>1</td>\n",
       "      <td>8</td>\n",
       "      <td>9744</td>\n",
       "    </tr>\n",
       "  </tbody>\n",
       "</table>\n",
       "<p>100000 rows × 10 columns</p>\n",
       "</div>"
      ],
      "text/plain": [
       "        User_ID Product_ID Gender    Age  Occupation City_Category  \\\n",
       "385439  1005329  P00225042      F  26-35           5             B   \n",
       "454404  1003945  P00193342      F  46-50           1             B   \n",
       "363804  1001962  P00302442      F  18-25           1             B   \n",
       "518033  1001755  P00058142      F  18-25           4             B   \n",
       "458148  1004482  P00296042      F  36-45           1             A   \n",
       "...         ...        ...    ...    ...         ...           ...   \n",
       "4603    1000752  P00035042      F  26-35           3             A   \n",
       "84632   1001088  P00303442      F   0-17          10             A   \n",
       "412538  1003518  P00041942      F  18-25           7             A   \n",
       "513095  1001088  P00297442      F   0-17          10             A   \n",
       "346940  1005433  P00052242      F  36-45          17             B   \n",
       "\n",
       "       Stay_In_Current_City_Years  Marital_Status  Product_Category  Purchase  \n",
       "385439                          1               0                 8     10004  \n",
       "454404                          2               0                11      5917  \n",
       "363804                          0               1                 5      5393  \n",
       "518033                         4+               0                 3      5662  \n",
       "458148                          1               0                 8      6160  \n",
       "...                           ...             ...               ...       ...  \n",
       "4603                            3               0                 5      6870  \n",
       "84632                           3               0                 1     11975  \n",
       "412538                          2               0                 5      5229  \n",
       "513095                          3               0                 2      3259  \n",
       "346940                          3               1                 8      9744  \n",
       "\n",
       "[100000 rows x 10 columns]"
      ]
     },
     "execution_count": 66,
     "metadata": {},
     "output_type": "execute_result"
    }
   ],
   "source": [
    "dfsf=df[df['Gender']=='F'].sample(100000)\n",
    "dfsf"
   ]
  },
  {
   "cell_type": "code",
   "execution_count": 70,
   "id": "43d83eff",
   "metadata": {},
   "outputs": [
    {
     "data": {
      "text/html": [
       "<div>\n",
       "<style scoped>\n",
       "    .dataframe tbody tr th:only-of-type {\n",
       "        vertical-align: middle;\n",
       "    }\n",
       "\n",
       "    .dataframe tbody tr th {\n",
       "        vertical-align: top;\n",
       "    }\n",
       "\n",
       "    .dataframe thead th {\n",
       "        text-align: right;\n",
       "    }\n",
       "</style>\n",
       "<table border=\"1\" class=\"dataframe\">\n",
       "  <thead>\n",
       "    <tr style=\"text-align: right;\">\n",
       "      <th></th>\n",
       "      <th>User_ID</th>\n",
       "      <th>Product_ID</th>\n",
       "      <th>Gender</th>\n",
       "      <th>Age</th>\n",
       "      <th>Occupation</th>\n",
       "      <th>City_Category</th>\n",
       "      <th>Stay_In_Current_City_Years</th>\n",
       "      <th>Marital_Status</th>\n",
       "      <th>Product_Category</th>\n",
       "      <th>Purchase</th>\n",
       "    </tr>\n",
       "  </thead>\n",
       "  <tbody>\n",
       "    <tr>\n",
       "      <th>351705</th>\n",
       "      <td>1000163</td>\n",
       "      <td>P00006342</td>\n",
       "      <td>M</td>\n",
       "      <td>18-25</td>\n",
       "      <td>4</td>\n",
       "      <td>A</td>\n",
       "      <td>1</td>\n",
       "      <td>0</td>\n",
       "      <td>5</td>\n",
       "      <td>1926</td>\n",
       "    </tr>\n",
       "    <tr>\n",
       "      <th>33522</th>\n",
       "      <td>1005140</td>\n",
       "      <td>P00048742</td>\n",
       "      <td>M</td>\n",
       "      <td>26-35</td>\n",
       "      <td>6</td>\n",
       "      <td>B</td>\n",
       "      <td>2</td>\n",
       "      <td>0</td>\n",
       "      <td>5</td>\n",
       "      <td>5249</td>\n",
       "    </tr>\n",
       "    <tr>\n",
       "      <th>375232</th>\n",
       "      <td>1003763</td>\n",
       "      <td>P00021342</td>\n",
       "      <td>M</td>\n",
       "      <td>26-35</td>\n",
       "      <td>2</td>\n",
       "      <td>A</td>\n",
       "      <td>1</td>\n",
       "      <td>0</td>\n",
       "      <td>5</td>\n",
       "      <td>5480</td>\n",
       "    </tr>\n",
       "    <tr>\n",
       "      <th>445834</th>\n",
       "      <td>1002665</td>\n",
       "      <td>P00015542</td>\n",
       "      <td>M</td>\n",
       "      <td>36-45</td>\n",
       "      <td>11</td>\n",
       "      <td>B</td>\n",
       "      <td>1</td>\n",
       "      <td>0</td>\n",
       "      <td>1</td>\n",
       "      <td>7601</td>\n",
       "    </tr>\n",
       "    <tr>\n",
       "      <th>212458</th>\n",
       "      <td>1002826</td>\n",
       "      <td>P00117142</td>\n",
       "      <td>M</td>\n",
       "      <td>36-45</td>\n",
       "      <td>12</td>\n",
       "      <td>A</td>\n",
       "      <td>4+</td>\n",
       "      <td>1</td>\n",
       "      <td>2</td>\n",
       "      <td>9792</td>\n",
       "    </tr>\n",
       "    <tr>\n",
       "      <th>...</th>\n",
       "      <td>...</td>\n",
       "      <td>...</td>\n",
       "      <td>...</td>\n",
       "      <td>...</td>\n",
       "      <td>...</td>\n",
       "      <td>...</td>\n",
       "      <td>...</td>\n",
       "      <td>...</td>\n",
       "      <td>...</td>\n",
       "      <td>...</td>\n",
       "    </tr>\n",
       "    <tr>\n",
       "      <th>4603</th>\n",
       "      <td>1000752</td>\n",
       "      <td>P00035042</td>\n",
       "      <td>F</td>\n",
       "      <td>26-35</td>\n",
       "      <td>3</td>\n",
       "      <td>A</td>\n",
       "      <td>3</td>\n",
       "      <td>0</td>\n",
       "      <td>5</td>\n",
       "      <td>6870</td>\n",
       "    </tr>\n",
       "    <tr>\n",
       "      <th>84632</th>\n",
       "      <td>1001088</td>\n",
       "      <td>P00303442</td>\n",
       "      <td>F</td>\n",
       "      <td>0-17</td>\n",
       "      <td>10</td>\n",
       "      <td>A</td>\n",
       "      <td>3</td>\n",
       "      <td>0</td>\n",
       "      <td>1</td>\n",
       "      <td>11975</td>\n",
       "    </tr>\n",
       "    <tr>\n",
       "      <th>412538</th>\n",
       "      <td>1003518</td>\n",
       "      <td>P00041942</td>\n",
       "      <td>F</td>\n",
       "      <td>18-25</td>\n",
       "      <td>7</td>\n",
       "      <td>A</td>\n",
       "      <td>2</td>\n",
       "      <td>0</td>\n",
       "      <td>5</td>\n",
       "      <td>5229</td>\n",
       "    </tr>\n",
       "    <tr>\n",
       "      <th>513095</th>\n",
       "      <td>1001088</td>\n",
       "      <td>P00297442</td>\n",
       "      <td>F</td>\n",
       "      <td>0-17</td>\n",
       "      <td>10</td>\n",
       "      <td>A</td>\n",
       "      <td>3</td>\n",
       "      <td>0</td>\n",
       "      <td>2</td>\n",
       "      <td>3259</td>\n",
       "    </tr>\n",
       "    <tr>\n",
       "      <th>346940</th>\n",
       "      <td>1005433</td>\n",
       "      <td>P00052242</td>\n",
       "      <td>F</td>\n",
       "      <td>36-45</td>\n",
       "      <td>17</td>\n",
       "      <td>B</td>\n",
       "      <td>3</td>\n",
       "      <td>1</td>\n",
       "      <td>8</td>\n",
       "      <td>9744</td>\n",
       "    </tr>\n",
       "  </tbody>\n",
       "</table>\n",
       "<p>200000 rows × 10 columns</p>\n",
       "</div>"
      ],
      "text/plain": [
       "        User_ID Product_ID Gender    Age  Occupation City_Category  \\\n",
       "351705  1000163  P00006342      M  18-25           4             A   \n",
       "33522   1005140  P00048742      M  26-35           6             B   \n",
       "375232  1003763  P00021342      M  26-35           2             A   \n",
       "445834  1002665  P00015542      M  36-45          11             B   \n",
       "212458  1002826  P00117142      M  36-45          12             A   \n",
       "...         ...        ...    ...    ...         ...           ...   \n",
       "4603    1000752  P00035042      F  26-35           3             A   \n",
       "84632   1001088  P00303442      F   0-17          10             A   \n",
       "412538  1003518  P00041942      F  18-25           7             A   \n",
       "513095  1001088  P00297442      F   0-17          10             A   \n",
       "346940  1005433  P00052242      F  36-45          17             B   \n",
       "\n",
       "       Stay_In_Current_City_Years  Marital_Status  Product_Category  Purchase  \n",
       "351705                          1               0                 5      1926  \n",
       "33522                           2               0                 5      5249  \n",
       "375232                          1               0                 5      5480  \n",
       "445834                          1               0                 1      7601  \n",
       "212458                         4+               1                 2      9792  \n",
       "...                           ...             ...               ...       ...  \n",
       "4603                            3               0                 5      6870  \n",
       "84632                           3               0                 1     11975  \n",
       "412538                          2               0                 5      5229  \n",
       "513095                          3               0                 2      3259  \n",
       "346940                          3               1                 8      9744  \n",
       "\n",
       "[200000 rows x 10 columns]"
      ]
     },
     "execution_count": 70,
     "metadata": {},
     "output_type": "execute_result"
    }
   ],
   "source": [
    "dft=pd.concat([dfsm,dfsf])\n",
    "dft"
   ]
  },
  {
   "cell_type": "markdown",
   "id": "9cf8835d",
   "metadata": {},
   "source": [
    "Confidence interval when considering 1 lakh rows of each genders."
   ]
  },
  {
   "cell_type": "code",
   "execution_count": 71,
   "id": "6a5a1e38",
   "metadata": {},
   "outputs": [
    {
     "data": {
      "text/plain": [
       "Gender\n",
       "F    (8706.772461924274, 8765.888418075725)\n",
       "M     (9401.488204103722, 9464.70931589628)\n",
       "dtype: object"
      ]
     },
     "execution_count": 71,
     "metadata": {},
     "output_type": "execute_result"
    }
   ],
   "source": [
    "dft.groupby('Gender').apply(fun95)"
   ]
  },
  {
   "cell_type": "markdown",
   "id": "cd5e5f80",
   "metadata": {},
   "source": [
    "Confidence interval when whole data is considered."
   ]
  },
  {
   "cell_type": "code",
   "execution_count": 72,
   "id": "7092ba01",
   "metadata": {},
   "outputs": [
    {
     "data": {
      "text/plain": [
       "Gender\n",
       "F    (8709.21154714068, 8759.919983170272)\n",
       "M    (9422.01944736257, 9453.032633581959)\n",
       "dtype: object"
      ]
     },
     "execution_count": 72,
     "metadata": {},
     "output_type": "execute_result"
    }
   ],
   "source": [
    "df.groupby('Gender').apply(fun95)"
   ]
  },
  {
   "cell_type": "markdown",
   "id": "1cf1dccd",
   "metadata": {},
   "source": [
    "Insight: We can see that when sample size increases, the distribution curve becomes narrower. That is the differene between the upper limit and lower limit reduces when sample size increases."
   ]
  },
  {
   "cell_type": "markdown",
   "id": "aa7cb82d",
   "metadata": {},
   "source": [
    "# Confidence intervals based on age groups"
   ]
  },
  {
   "cell_type": "markdown",
   "id": "9f57fc0d",
   "metadata": {},
   "source": [
    "90 percent confidence interval"
   ]
  },
  {
   "cell_type": "code",
   "execution_count": 34,
   "id": "90e3dd00",
   "metadata": {},
   "outputs": [
    {
     "data": {
      "text/plain": [
       "Age\n",
       "0-17      (8865.053694527898, 9001.87558636205)\n",
       "18-25     (9143.433031607847, 9195.89418091473)\n",
       "26-35    (9235.103000581124, 9270.278265158651)\n",
       "36-45    (9306.441376202305, 9356.260013633442)\n",
       "46-50    (9170.406859081897, 9246.844535854758)\n",
       "51-55    (9492.161430973249, 9577.454630947223)\n",
       "55+      (9280.067707714425, 9392.493211184385)\n",
       "dtype: object"
      ]
     },
     "execution_count": 34,
     "metadata": {},
     "output_type": "execute_result"
    }
   ],
   "source": [
    "df.groupby('Age').apply(fun90)"
   ]
  },
  {
   "cell_type": "markdown",
   "id": "195fe3a2",
   "metadata": {},
   "source": [
    "95 percent confidence interval"
   ]
  },
  {
   "cell_type": "code",
   "execution_count": 35,
   "id": "c36f90f6",
   "metadata": {},
   "outputs": [
    {
     "data": {
      "text/plain": [
       "Age\n",
       "0-17     (8851.947970542686, 9014.981310347262)\n",
       "18-25    (9138.407948753442, 9200.919263769136)\n",
       "26-35     (9231.73367640003, 9273.647589339746)\n",
       "36-45    (9301.669410965314, 9361.031978870433)\n",
       "46-50    (9163.085142648752, 9254.166252287903)\n",
       "51-55    (9483.991472776577, 9585.624589143894)\n",
       "55+       (9269.29883441773, 9403.262084481079)\n",
       "dtype: object"
      ]
     },
     "execution_count": 35,
     "metadata": {},
     "output_type": "execute_result"
    }
   ],
   "source": [
    "df.groupby('Age').apply(fun95)"
   ]
  },
  {
   "cell_type": "markdown",
   "id": "34d10cec",
   "metadata": {},
   "source": [
    "99 percent confidence interval"
   ]
  },
  {
   "cell_type": "code",
   "execution_count": 36,
   "id": "010da106",
   "metadata": {},
   "outputs": [
    {
     "data": {
      "text/plain": [
       "Age\n",
       "0-17      (8826.333576446717, 9040.59570444323)\n",
       "18-25    (9128.586709366526, 9210.740503156052)\n",
       "26-35     (9225.148523415806, 9280.23274232397)\n",
       "36-45    (9292.342875603326, 9370.358514232421)\n",
       "46-50    (9148.775263210646, 9268.476131726009)\n",
       "51-55      (9468.02375292888, 9601.59230899159)\n",
       "55+       (9248.251682432669, 9424.30923646614)\n",
       "dtype: object"
      ]
     },
     "execution_count": 36,
     "metadata": {},
     "output_type": "execute_result"
    }
   ],
   "source": [
    "df.groupby('Age').apply(fun99)"
   ]
  },
  {
   "cell_type": "code",
   "execution_count": 37,
   "id": "98702e7b",
   "metadata": {},
   "outputs": [],
   "source": [
    "from statistics import mode"
   ]
  },
  {
   "cell_type": "code",
   "execution_count": 38,
   "id": "2b106c9d",
   "metadata": {},
   "outputs": [
    {
     "data": {
      "text/html": [
       "<div>\n",
       "<style scoped>\n",
       "    .dataframe tbody tr th:only-of-type {\n",
       "        vertical-align: middle;\n",
       "    }\n",
       "\n",
       "    .dataframe tbody tr th {\n",
       "        vertical-align: top;\n",
       "    }\n",
       "\n",
       "    .dataframe thead th {\n",
       "        text-align: right;\n",
       "    }\n",
       "</style>\n",
       "<table border=\"1\" class=\"dataframe\">\n",
       "  <thead>\n",
       "    <tr style=\"text-align: right;\">\n",
       "      <th></th>\n",
       "      <th>Age</th>\n",
       "      <th>Product_Category</th>\n",
       "    </tr>\n",
       "  </thead>\n",
       "  <tbody>\n",
       "    <tr>\n",
       "      <th>0</th>\n",
       "      <td>0-17</td>\n",
       "      <td>5</td>\n",
       "    </tr>\n",
       "    <tr>\n",
       "      <th>1</th>\n",
       "      <td>18-25</td>\n",
       "      <td>5</td>\n",
       "    </tr>\n",
       "    <tr>\n",
       "      <th>2</th>\n",
       "      <td>26-35</td>\n",
       "      <td>5</td>\n",
       "    </tr>\n",
       "    <tr>\n",
       "      <th>3</th>\n",
       "      <td>36-45</td>\n",
       "      <td>5</td>\n",
       "    </tr>\n",
       "    <tr>\n",
       "      <th>4</th>\n",
       "      <td>46-50</td>\n",
       "      <td>5</td>\n",
       "    </tr>\n",
       "    <tr>\n",
       "      <th>5</th>\n",
       "      <td>51-55</td>\n",
       "      <td>5</td>\n",
       "    </tr>\n",
       "    <tr>\n",
       "      <th>6</th>\n",
       "      <td>55+</td>\n",
       "      <td>8</td>\n",
       "    </tr>\n",
       "  </tbody>\n",
       "</table>\n",
       "</div>"
      ],
      "text/plain": [
       "     Age  Product_Category\n",
       "0   0-17                 5\n",
       "1  18-25                 5\n",
       "2  26-35                 5\n",
       "3  36-45                 5\n",
       "4  46-50                 5\n",
       "5  51-55                 5\n",
       "6    55+                 8"
      ]
     },
     "execution_count": 38,
     "metadata": {},
     "output_type": "execute_result"
    }
   ],
   "source": [
    "df.groupby('Age')['Product_Category'].aggregate(mode).reset_index()"
   ]
  },
  {
   "cell_type": "markdown",
   "id": "8c850cbd",
   "metadata": {},
   "source": [
    "Insight: When comparing cnfidence interval for average spend for different age groups, we can see that the age group 51-55 is the one likely spend the most per purchase. Confidence intervals are following an increasing trend with increase in age till 45 age. The age group 46-50 is a bit cautious in spending.\n",
    "\n",
    "Recommendation: Since the age group that is most likely spend higher amount is 51-55, we can focus on products that are mostly bought by this age group. We need to target the age group 46-50 to increase the revenue from this age group. We can focus on the product category that are mostly bought by this age group and give occassional discounts on these products. Here the product category that are most bought by this age group is 5."
   ]
  },
  {
   "cell_type": "markdown",
   "id": "00a8d982",
   "metadata": {},
   "source": [
    "# Confidence intervals based on marital status"
   ]
  },
  {
   "cell_type": "markdown",
   "id": "6bb2a9b7",
   "metadata": {},
   "source": [
    "90 percent confidence interval"
   ]
  },
  {
   "cell_type": "code",
   "execution_count": 39,
   "id": "f4becebc",
   "metadata": {},
   "outputs": [
    {
     "data": {
      "text/plain": [
       "Marital_Status\n",
       "0     (9251.39638582367, 9280.418852019344)\n",
       "1    (9243.790713903045, 9278.558434261702)\n",
       "dtype: object"
      ]
     },
     "execution_count": 39,
     "metadata": {},
     "output_type": "execute_result"
    }
   ],
   "source": [
    "df.groupby('Marital_Status').apply(fun90)"
   ]
  },
  {
   "cell_type": "markdown",
   "id": "685a78f4",
   "metadata": {},
   "source": [
    "95 percent confidence interval"
   ]
  },
  {
   "cell_type": "code",
   "execution_count": 40,
   "id": "2f6fade3",
   "metadata": {},
   "outputs": [
    {
     "data": {
      "text/plain": [
       "Marital_Status\n",
       "0     (9248.61641818668, 9283.198819656332)\n",
       "1    (9240.460427057078, 9281.888721107669)\n",
       "dtype: object"
      ]
     },
     "execution_count": 40,
     "metadata": {},
     "output_type": "execute_result"
    }
   ],
   "source": [
    "df.groupby('Marital_Status').apply(fun95)"
   ]
  },
  {
   "cell_type": "markdown",
   "id": "c6c7e9f5",
   "metadata": {},
   "source": [
    "99 percent confidence interval"
   ]
  },
  {
   "cell_type": "code",
   "execution_count": 41,
   "id": "52f0c50c",
   "metadata": {},
   "outputs": [
    {
     "data": {
      "text/plain": [
       "Marital_Status\n",
       "0    (9243.183129136169, 9288.632108706845)\n",
       "1     (9233.951570329937, 9288.39757783481)\n",
       "dtype: object"
      ]
     },
     "execution_count": 41,
     "metadata": {},
     "output_type": "execute_result"
    }
   ],
   "source": [
    "df.groupby('Marital_Status').apply(fun99)"
   ]
  },
  {
   "cell_type": "code",
   "execution_count": 42,
   "id": "53fee9c3",
   "metadata": {},
   "outputs": [
    {
     "data": {
      "text/plain": [
       "Marital_Status\n",
       "0    9265.907619\n",
       "1    9261.174574\n",
       "Name: Purchase, dtype: float64"
      ]
     },
     "execution_count": 42,
     "metadata": {},
     "output_type": "execute_result"
    }
   ],
   "source": [
    "df.groupby('Marital_Status')['Purchase'].mean()"
   ]
  },
  {
   "cell_type": "markdown",
   "id": "37082c5c",
   "metadata": {},
   "source": [
    "Insight: The average spending of unmarried and married people are very similar and also the confidence intervals for these groups are also overlapping. So we cannot really conclude which category is spending more per puchase than the other.\n",
    "\n",
    "Recommendation: Since the mean is very similar and conidence intervals overlapping we can say that Walmart can treat both groups equally or in other words they can treat them as a single group and take necessary actions to increase the sale of the whole group."
   ]
  },
  {
   "cell_type": "markdown",
   "id": "f93041c4",
   "metadata": {},
   "source": [
    "# Confidence intervals of purchase amount based on city category"
   ]
  },
  {
   "cell_type": "markdown",
   "id": "b0633e2e",
   "metadata": {},
   "source": [
    "90 percent confidence interval"
   ]
  },
  {
   "cell_type": "code",
   "execution_count": 43,
   "id": "1717da78",
   "metadata": {},
   "outputs": [
    {
     "data": {
      "text/plain": [
       "City_Category\n",
       "A    (8891.002706225465, 8932.875725943502)\n",
       "B    (9134.347589332983, 9168.253536230988)\n",
       "C    (9699.289546263339, 9740.552440008021)\n",
       "dtype: object"
      ]
     },
     "execution_count": 43,
     "metadata": {},
     "output_type": "execute_result"
    }
   ],
   "source": [
    "df.groupby('City_Category').apply(fun90)"
   ]
  },
  {
   "cell_type": "markdown",
   "id": "92dc57d9",
   "metadata": {},
   "source": [
    "95 percent confidence interval"
   ]
  },
  {
   "cell_type": "code",
   "execution_count": 44,
   "id": "ca76303f",
   "metadata": {},
   "outputs": [
    {
     "data": {
      "text/plain": [
       "City_Category\n",
       "A     (8886.991825864907, 8936.88660630406)\n",
       "B    (9131.099848963764, 9171.501276600207)\n",
       "C    (9695.337107885243, 9744.504878386117)\n",
       "dtype: object"
      ]
     },
     "execution_count": 44,
     "metadata": {},
     "output_type": "execute_result"
    }
   ],
   "source": [
    "df.groupby('City_Category').apply(fun95)"
   ]
  },
  {
   "cell_type": "markdown",
   "id": "311e3dac",
   "metadata": {},
   "source": [
    "99 percent confidence interval"
   ]
  },
  {
   "cell_type": "code",
   "execution_count": 46,
   "id": "c7693def",
   "metadata": {},
   "outputs": [
    {
     "data": {
      "text/plain": [
       "City_Category\n",
       "A    (8879.152787720732, 8944.725644448235)\n",
       "B     (9124.75232464291, 9177.848800921061)\n",
       "C      (9687.61229128062, 9752.22969499074)\n",
       "dtype: object"
      ]
     },
     "execution_count": 46,
     "metadata": {},
     "output_type": "execute_result"
    }
   ],
   "source": [
    "df.groupby('City_Category').apply(fun99)"
   ]
  },
  {
   "cell_type": "code",
   "execution_count": null,
   "id": "26567f01",
   "metadata": {},
   "outputs": [],
   "source": [
    "df.groupby('City_Category').apply(fun99)"
   ]
  },
  {
   "cell_type": "markdown",
   "id": "ea02314e",
   "metadata": {},
   "source": [
    "Insight: We can see that confidence interval of average spending per purchase is higher for city category C. This could be because of higher average income of people living there.\n",
    "\n",
    "Recommendation: We can conduct special promotion campaign targeting city category A and B and seasonal discount sale to increase the reach among the customers from those city categories."
   ]
  },
  {
   "cell_type": "markdown",
   "id": "3172c172",
   "metadata": {},
   "source": [
    "# Confidence interval of purchase amount based on years of stay in the current city"
   ]
  },
  {
   "cell_type": "markdown",
   "id": "5ad03764",
   "metadata": {},
   "source": [
    "90 percent confidence interval"
   ]
  },
  {
   "cell_type": "code",
   "execution_count": 47,
   "id": "548c56e6",
   "metadata": {},
   "outputs": [
    {
     "data": {
      "text/plain": [
       "Stay_In_Current_City_Years\n",
       "0       (9149.9804976727, 9210.169748301654)\n",
       "1     (9231.362405599124, 9268.929441001605)\n",
       "2      (9294.428331341942, 9346.43128883913)\n",
       "3     (9260.152601615531, 9313.655636827038)\n",
       "4+    (9247.244676113572, 9303.953067200167)\n",
       "dtype: object"
      ]
     },
     "execution_count": 47,
     "metadata": {},
     "output_type": "execute_result"
    }
   ],
   "source": [
    "df.groupby('Stay_In_Current_City_Years').apply(fun90)"
   ]
  },
  {
   "cell_type": "markdown",
   "id": "c890c9d2",
   "metadata": {},
   "source": [
    "95 percent confidence interval"
   ]
  },
  {
   "cell_type": "code",
   "execution_count": 48,
   "id": "e87b87f0",
   "metadata": {},
   "outputs": [
    {
     "data": {
      "text/plain": [
       "Stay_In_Current_City_Years\n",
       "0       (9144.215165129453, 9215.9350808449)\n",
       "1      (9227.763981470298, 9272.52786513043)\n",
       "2      (9289.44713719065, 9351.412482990423)\n",
       "3     (9255.027719899212, 9318.780518543357)\n",
       "4+    (9241.812763783875, 9309.384979529865)\n",
       "dtype: object"
      ]
     },
     "execution_count": 48,
     "metadata": {},
     "output_type": "execute_result"
    }
   ],
   "source": [
    "df.groupby('Stay_In_Current_City_Years').apply(fun95)"
   ]
  },
  {
   "cell_type": "markdown",
   "id": "35bdb730",
   "metadata": {},
   "source": [
    "99 percent confidence interval"
   ]
  },
  {
   "cell_type": "code",
   "execution_count": 49,
   "id": "58653dcb",
   "metadata": {},
   "outputs": [
    {
     "data": {
      "text/plain": [
       "Stay_In_Current_City_Years\n",
       "0     (9132.947149716982, 9227.203096257372)\n",
       "1      (9220.73106563412, 9279.560780966609)\n",
       "2     (9279.711675784345, 9361.147944396727)\n",
       "3     (9245.011429297858, 9328.796809144711)\n",
       "4+    (9231.196399265244, 9320.001344048496)\n",
       "dtype: object"
      ]
     },
     "execution_count": 49,
     "metadata": {},
     "output_type": "execute_result"
    }
   ],
   "source": [
    "df.groupby('Stay_In_Current_City_Years').apply(fun99)"
   ]
  },
  {
   "cell_type": "code",
   "execution_count": 51,
   "id": "17dd127f",
   "metadata": {},
   "outputs": [
    {
     "data": {
      "text/html": [
       "<div>\n",
       "<style scoped>\n",
       "    .dataframe tbody tr th:only-of-type {\n",
       "        vertical-align: middle;\n",
       "    }\n",
       "\n",
       "    .dataframe tbody tr th {\n",
       "        vertical-align: top;\n",
       "    }\n",
       "\n",
       "    .dataframe thead th {\n",
       "        text-align: right;\n",
       "    }\n",
       "</style>\n",
       "<table border=\"1\" class=\"dataframe\">\n",
       "  <thead>\n",
       "    <tr style=\"text-align: right;\">\n",
       "      <th></th>\n",
       "      <th>User_ID</th>\n",
       "      <th>Product_ID</th>\n",
       "      <th>Gender</th>\n",
       "      <th>Age</th>\n",
       "      <th>Occupation</th>\n",
       "      <th>City_Category</th>\n",
       "      <th>Stay_In_Current_City_Years</th>\n",
       "      <th>Marital_Status</th>\n",
       "      <th>Product_Category</th>\n",
       "      <th>Purchase</th>\n",
       "    </tr>\n",
       "  </thead>\n",
       "  <tbody>\n",
       "    <tr>\n",
       "      <th>0</th>\n",
       "      <td>1000001</td>\n",
       "      <td>P00069042</td>\n",
       "      <td>F</td>\n",
       "      <td>0-17</td>\n",
       "      <td>10</td>\n",
       "      <td>A</td>\n",
       "      <td>2</td>\n",
       "      <td>0</td>\n",
       "      <td>3</td>\n",
       "      <td>8370</td>\n",
       "    </tr>\n",
       "    <tr>\n",
       "      <th>4</th>\n",
       "      <td>1000002</td>\n",
       "      <td>P00285442</td>\n",
       "      <td>M</td>\n",
       "      <td>55+</td>\n",
       "      <td>16</td>\n",
       "      <td>C</td>\n",
       "      <td>4+</td>\n",
       "      <td>0</td>\n",
       "      <td>8</td>\n",
       "      <td>7969</td>\n",
       "    </tr>\n",
       "    <tr>\n",
       "      <th>5</th>\n",
       "      <td>1000003</td>\n",
       "      <td>P00193542</td>\n",
       "      <td>M</td>\n",
       "      <td>26-35</td>\n",
       "      <td>15</td>\n",
       "      <td>A</td>\n",
       "      <td>3</td>\n",
       "      <td>0</td>\n",
       "      <td>1</td>\n",
       "      <td>15227</td>\n",
       "    </tr>\n",
       "    <tr>\n",
       "      <th>6</th>\n",
       "      <td>1000004</td>\n",
       "      <td>P00184942</td>\n",
       "      <td>M</td>\n",
       "      <td>46-50</td>\n",
       "      <td>7</td>\n",
       "      <td>B</td>\n",
       "      <td>2</td>\n",
       "      <td>1</td>\n",
       "      <td>1</td>\n",
       "      <td>19215</td>\n",
       "    </tr>\n",
       "    <tr>\n",
       "      <th>9</th>\n",
       "      <td>1000005</td>\n",
       "      <td>P00274942</td>\n",
       "      <td>M</td>\n",
       "      <td>26-35</td>\n",
       "      <td>20</td>\n",
       "      <td>A</td>\n",
       "      <td>1</td>\n",
       "      <td>1</td>\n",
       "      <td>8</td>\n",
       "      <td>7871</td>\n",
       "    </tr>\n",
       "    <tr>\n",
       "      <th>...</th>\n",
       "      <td>...</td>\n",
       "      <td>...</td>\n",
       "      <td>...</td>\n",
       "      <td>...</td>\n",
       "      <td>...</td>\n",
       "      <td>...</td>\n",
       "      <td>...</td>\n",
       "      <td>...</td>\n",
       "      <td>...</td>\n",
       "      <td>...</td>\n",
       "    </tr>\n",
       "    <tr>\n",
       "      <th>185450</th>\n",
       "      <td>1004588</td>\n",
       "      <td>P00260042</td>\n",
       "      <td>F</td>\n",
       "      <td>26-35</td>\n",
       "      <td>4</td>\n",
       "      <td>C</td>\n",
       "      <td>0</td>\n",
       "      <td>0</td>\n",
       "      <td>5</td>\n",
       "      <td>8707</td>\n",
       "    </tr>\n",
       "    <tr>\n",
       "      <th>187076</th>\n",
       "      <td>1004871</td>\n",
       "      <td>P00242742</td>\n",
       "      <td>M</td>\n",
       "      <td>18-25</td>\n",
       "      <td>12</td>\n",
       "      <td>C</td>\n",
       "      <td>2</td>\n",
       "      <td>0</td>\n",
       "      <td>1</td>\n",
       "      <td>15389</td>\n",
       "    </tr>\n",
       "    <tr>\n",
       "      <th>221494</th>\n",
       "      <td>1004113</td>\n",
       "      <td>P00351842</td>\n",
       "      <td>M</td>\n",
       "      <td>36-45</td>\n",
       "      <td>17</td>\n",
       "      <td>C</td>\n",
       "      <td>3</td>\n",
       "      <td>0</td>\n",
       "      <td>5</td>\n",
       "      <td>5183</td>\n",
       "    </tr>\n",
       "    <tr>\n",
       "      <th>229480</th>\n",
       "      <td>1005391</td>\n",
       "      <td>P00339342</td>\n",
       "      <td>M</td>\n",
       "      <td>26-35</td>\n",
       "      <td>7</td>\n",
       "      <td>A</td>\n",
       "      <td>0</td>\n",
       "      <td>0</td>\n",
       "      <td>1</td>\n",
       "      <td>15831</td>\n",
       "    </tr>\n",
       "    <tr>\n",
       "      <th>243533</th>\n",
       "      <td>1001529</td>\n",
       "      <td>P00000242</td>\n",
       "      <td>M</td>\n",
       "      <td>18-25</td>\n",
       "      <td>4</td>\n",
       "      <td>C</td>\n",
       "      <td>4+</td>\n",
       "      <td>1</td>\n",
       "      <td>2</td>\n",
       "      <td>9888</td>\n",
       "    </tr>\n",
       "  </tbody>\n",
       "</table>\n",
       "<p>5891 rows × 10 columns</p>\n",
       "</div>"
      ],
      "text/plain": [
       "        User_ID Product_ID Gender    Age  Occupation City_Category  \\\n",
       "0       1000001  P00069042      F   0-17          10             A   \n",
       "4       1000002  P00285442      M    55+          16             C   \n",
       "5       1000003  P00193542      M  26-35          15             A   \n",
       "6       1000004  P00184942      M  46-50           7             B   \n",
       "9       1000005  P00274942      M  26-35          20             A   \n",
       "...         ...        ...    ...    ...         ...           ...   \n",
       "185450  1004588  P00260042      F  26-35           4             C   \n",
       "187076  1004871  P00242742      M  18-25          12             C   \n",
       "221494  1004113  P00351842      M  36-45          17             C   \n",
       "229480  1005391  P00339342      M  26-35           7             A   \n",
       "243533  1001529  P00000242      M  18-25           4             C   \n",
       "\n",
       "       Stay_In_Current_City_Years  Marital_Status  Product_Category  Purchase  \n",
       "0                               2               0                 3      8370  \n",
       "4                              4+               0                 8      7969  \n",
       "5                               3               0                 1     15227  \n",
       "6                               2               1                 1     19215  \n",
       "9                               1               1                 8      7871  \n",
       "...                           ...             ...               ...       ...  \n",
       "185450                          0               0                 5      8707  \n",
       "187076                          2               0                 1     15389  \n",
       "221494                          3               0                 5      5183  \n",
       "229480                          0               0                 1     15831  \n",
       "243533                         4+               1                 2      9888  \n",
       "\n",
       "[5891 rows x 10 columns]"
      ]
     },
     "execution_count": 51,
     "metadata": {},
     "output_type": "execute_result"
    }
   ],
   "source": [
    "dft=df.drop_duplicates('User_ID', keep='first')\n",
    "dft"
   ]
  },
  {
   "cell_type": "code",
   "execution_count": 52,
   "id": "c5b341b9",
   "metadata": {},
   "outputs": [
    {
     "data": {
      "text/html": [
       "<div>\n",
       "<style scoped>\n",
       "    .dataframe tbody tr th:only-of-type {\n",
       "        vertical-align: middle;\n",
       "    }\n",
       "\n",
       "    .dataframe tbody tr th {\n",
       "        vertical-align: top;\n",
       "    }\n",
       "\n",
       "    .dataframe thead th {\n",
       "        text-align: right;\n",
       "    }\n",
       "</style>\n",
       "<table border=\"1\" class=\"dataframe\">\n",
       "  <thead>\n",
       "    <tr style=\"text-align: right;\">\n",
       "      <th>Marital_Status</th>\n",
       "      <th>0</th>\n",
       "      <th>1</th>\n",
       "    </tr>\n",
       "    <tr>\n",
       "      <th>Gender</th>\n",
       "      <th></th>\n",
       "      <th></th>\n",
       "    </tr>\n",
       "  </thead>\n",
       "  <tbody>\n",
       "    <tr>\n",
       "      <th>F</th>\n",
       "      <td>947</td>\n",
       "      <td>719</td>\n",
       "    </tr>\n",
       "    <tr>\n",
       "      <th>M</th>\n",
       "      <td>2470</td>\n",
       "      <td>1755</td>\n",
       "    </tr>\n",
       "  </tbody>\n",
       "</table>\n",
       "</div>"
      ],
      "text/plain": [
       "Marital_Status     0     1\n",
       "Gender                    \n",
       "F                947   719\n",
       "M               2470  1755"
      ]
     },
     "execution_count": 52,
     "metadata": {},
     "output_type": "execute_result"
    }
   ],
   "source": [
    "pd.crosstab(dft['Gender'], dft['Marital_Status'])"
   ]
  },
  {
   "cell_type": "markdown",
   "id": "2840e6c8",
   "metadata": {},
   "source": [
    "Male unmarried is the category where walmart is having highest number of customers."
   ]
  },
  {
   "cell_type": "code",
   "execution_count": 53,
   "id": "215fd060",
   "metadata": {},
   "outputs": [
    {
     "data": {
      "text/html": [
       "<div>\n",
       "<style scoped>\n",
       "    .dataframe tbody tr th:only-of-type {\n",
       "        vertical-align: middle;\n",
       "    }\n",
       "\n",
       "    .dataframe tbody tr th {\n",
       "        vertical-align: top;\n",
       "    }\n",
       "\n",
       "    .dataframe thead th {\n",
       "        text-align: right;\n",
       "    }\n",
       "</style>\n",
       "<table border=\"1\" class=\"dataframe\">\n",
       "  <thead>\n",
       "    <tr style=\"text-align: right;\">\n",
       "      <th>Age</th>\n",
       "      <th>0-17</th>\n",
       "      <th>18-25</th>\n",
       "      <th>26-35</th>\n",
       "      <th>36-45</th>\n",
       "      <th>46-50</th>\n",
       "      <th>51-55</th>\n",
       "      <th>55+</th>\n",
       "    </tr>\n",
       "    <tr>\n",
       "      <th>Gender</th>\n",
       "      <th></th>\n",
       "      <th></th>\n",
       "      <th></th>\n",
       "      <th></th>\n",
       "      <th></th>\n",
       "      <th></th>\n",
       "      <th></th>\n",
       "    </tr>\n",
       "  </thead>\n",
       "  <tbody>\n",
       "    <tr>\n",
       "      <th>F</th>\n",
       "      <td>78</td>\n",
       "      <td>287</td>\n",
       "      <td>545</td>\n",
       "      <td>333</td>\n",
       "      <td>182</td>\n",
       "      <td>142</td>\n",
       "      <td>99</td>\n",
       "    </tr>\n",
       "    <tr>\n",
       "      <th>M</th>\n",
       "      <td>140</td>\n",
       "      <td>782</td>\n",
       "      <td>1508</td>\n",
       "      <td>834</td>\n",
       "      <td>349</td>\n",
       "      <td>339</td>\n",
       "      <td>273</td>\n",
       "    </tr>\n",
       "  </tbody>\n",
       "</table>\n",
       "</div>"
      ],
      "text/plain": [
       "Age     0-17  18-25  26-35  36-45  46-50  51-55  55+\n",
       "Gender                                              \n",
       "F         78    287    545    333    182    142   99\n",
       "M        140    782   1508    834    349    339  273"
      ]
     },
     "execution_count": 53,
     "metadata": {},
     "output_type": "execute_result"
    }
   ],
   "source": [
    "pd.crosstab(dft['Gender'], dft['Age'])"
   ]
  },
  {
   "cell_type": "code",
   "execution_count": 57,
   "id": "d6e41b37",
   "metadata": {},
   "outputs": [
    {
     "data": {
      "text/plain": [
       "<AxesSubplot:xlabel='Age', ylabel='Gender'>"
      ]
     },
     "execution_count": 57,
     "metadata": {},
     "output_type": "execute_result"
    },
    {
     "data": {
      "image/png": "[encoded data removed]",
      "text/plain": [
       "<Figure size 640x480 with 2 Axes>"
      ]
     },
     "metadata": {},
     "output_type": "display_data"
    }
   ],
   "source": [
    "sns.heatmap(pd.crosstab(dft['Gender'], dft['Age'], normalize='index'),annot=True)"
   ]
  },
  {
   "cell_type": "markdown",
   "id": "195e597e",
   "metadata": {},
   "source": [
    "Insight: The age group 26-35 is the one where Walmart is having highest number of customers irrespective of gender.\n",
    "    \n",
    "Recommendation: The awareness among other age groups needs to be improved, and for this special discount targeting these age groups can be given once in a while."
   ]
  },
  {
   "cell_type": "code",
   "execution_count": 58,
   "id": "8ac35098",
   "metadata": {},
   "outputs": [
    {
     "data": {
      "text/plain": [
       "<AxesSubplot:>"
      ]
     },
     "execution_count": 58,
     "metadata": {},
     "output_type": "execute_result"
    },
    {
     "data": {
      "image/png": "[encoded data removed]",
      "text/plain": [
       "<Figure size 640x480 with 2 Axes>"
      ]
     },
     "metadata": {},
     "output_type": "display_data"
    }
   ],
   "source": [
    "sns.heatmap(df.corr(), annot=True)"
   ]
  },
  {
   "cell_type": "markdown",
   "id": "154bcb57",
   "metadata": {},
   "source": [
    "Insight: There is no significant correlation between any of the numerical columns."
   ]
  }
 ],
 "metadata": {
  "kernelspec": {
   "display_name": "Python 3 (ipykernel)",
   "language": "python",
   "name": "python3"
  },
  "language_info": {
   "codemirror_mode": {
    "name": "ipython",
    "version": 3
   },
   "file_extension": ".py",
   "mimetype": "text/x-python",
   "name": "python",
   "nbconvert_exporter": "python",
   "pygments_lexer": "ipython3",
   "version": "3.9.13"
  }
 },
 "nbformat": 4,
 "nbformat_minor": 5
}
